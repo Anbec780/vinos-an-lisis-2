{
  "nbformat": 4,
  "nbformat_minor": 0,
  "metadata": {
    "colab": {
      "provenance": []
    },
    "kernelspec": {
      "name": "python3",
      "display_name": "Python 3"
    },
    "language_info": {
      "name": "python"
    }
  },
  "cells": [
    {
      "cell_type": "markdown",
      "source": [
        "\n",
        "\n",
        "Extraemos los datos\n",
        "\n"
      ],
      "metadata": {
        "id": "MzqxRrKvEory"
      }
    },
    {
      "cell_type": "code",
      "source": [
        "pip install pandas"
      ],
      "metadata": {
        "colab": {
          "base_uri": "https://localhost:8080/"
        },
        "id": "IXPKRICukyOk",
        "outputId": "49fc4ff8-fd81-4583-fa03-bce2f00d4c5c"
      },
      "execution_count": 1,
      "outputs": [
        {
          "output_type": "stream",
          "name": "stdout",
          "text": [
            "Requirement already satisfied: pandas in /usr/local/lib/python3.11/dist-packages (2.2.2)\n",
            "Requirement already satisfied: numpy>=1.23.2 in /usr/local/lib/python3.11/dist-packages (from pandas) (1.26.4)\n",
            "Requirement already satisfied: python-dateutil>=2.8.2 in /usr/local/lib/python3.11/dist-packages (from pandas) (2.8.2)\n",
            "Requirement already satisfied: pytz>=2020.1 in /usr/local/lib/python3.11/dist-packages (from pandas) (2025.1)\n",
            "Requirement already satisfied: tzdata>=2022.7 in /usr/local/lib/python3.11/dist-packages (from pandas) (2025.1)\n",
            "Requirement already satisfied: six>=1.5 in /usr/local/lib/python3.11/dist-packages (from python-dateutil>=2.8.2->pandas) (1.17.0)\n"
          ]
        }
      ]
    },
    {
      "cell_type": "code",
      "execution_count": 2,
      "metadata": {
        "colab": {
          "base_uri": "https://localhost:8080/"
        },
        "id": "9o-ZVDZrfuC9",
        "outputId": "5767ffa2-7c8f-4895-8ee6-79ac3e675a14"
      },
      "outputs": [
        {
          "output_type": "stream",
          "name": "stdout",
          "text": [
            "Requirement already satisfied: kaggle in /usr/local/lib/python3.11/dist-packages (1.6.17)\n",
            "Requirement already satisfied: six>=1.10 in /usr/local/lib/python3.11/dist-packages (from kaggle) (1.17.0)\n",
            "Requirement already satisfied: certifi>=2023.7.22 in /usr/local/lib/python3.11/dist-packages (from kaggle) (2025.1.31)\n",
            "Requirement already satisfied: python-dateutil in /usr/local/lib/python3.11/dist-packages (from kaggle) (2.8.2)\n",
            "Requirement already satisfied: requests in /usr/local/lib/python3.11/dist-packages (from kaggle) (2.32.3)\n",
            "Requirement already satisfied: tqdm in /usr/local/lib/python3.11/dist-packages (from kaggle) (4.67.1)\n",
            "Requirement already satisfied: python-slugify in /usr/local/lib/python3.11/dist-packages (from kaggle) (8.0.4)\n",
            "Requirement already satisfied: urllib3 in /usr/local/lib/python3.11/dist-packages (from kaggle) (2.3.0)\n",
            "Requirement already satisfied: bleach in /usr/local/lib/python3.11/dist-packages (from kaggle) (6.2.0)\n",
            "Requirement already satisfied: webencodings in /usr/local/lib/python3.11/dist-packages (from bleach->kaggle) (0.5.1)\n",
            "Requirement already satisfied: text-unidecode>=1.3 in /usr/local/lib/python3.11/dist-packages (from python-slugify->kaggle) (1.3)\n",
            "Requirement already satisfied: charset-normalizer<4,>=2 in /usr/local/lib/python3.11/dist-packages (from requests->kaggle) (3.4.1)\n",
            "Requirement already satisfied: idna<4,>=2.5 in /usr/local/lib/python3.11/dist-packages (from requests->kaggle) (3.10)\n"
          ]
        }
      ],
      "source": [
        "pip install kaggle"
      ]
    },
    {
      "cell_type": "code",
      "source": [
        "from google.colab import files\n",
        "files.upload()  # subir el archivo kaggle.json"
      ],
      "metadata": {
        "colab": {
          "base_uri": "https://localhost:8080/",
          "height": 92
        },
        "id": "5nkDrt1VkITE",
        "outputId": "b24a3ef7-ae4f-4a28-cc1a-6621e2c6c21f"
      },
      "execution_count": 3,
      "outputs": [
        {
          "output_type": "display_data",
          "data": {
            "text/plain": [
              "<IPython.core.display.HTML object>"
            ],
            "text/html": [
              "\n",
              "     <input type=\"file\" id=\"files-d249fcce-87ff-4703-a299-40539b48bb52\" name=\"files[]\" multiple disabled\n",
              "        style=\"border:none\" />\n",
              "     <output id=\"result-d249fcce-87ff-4703-a299-40539b48bb52\">\n",
              "      Upload widget is only available when the cell has been executed in the\n",
              "      current browser session. Please rerun this cell to enable.\n",
              "      </output>\n",
              "      <script>// Copyright 2017 Google LLC\n",
              "//\n",
              "// Licensed under the Apache License, Version 2.0 (the \"License\");\n",
              "// you may not use this file except in compliance with the License.\n",
              "// You may obtain a copy of the License at\n",
              "//\n",
              "//      http://www.apache.org/licenses/LICENSE-2.0\n",
              "//\n",
              "// Unless required by applicable law or agreed to in writing, software\n",
              "// distributed under the License is distributed on an \"AS IS\" BASIS,\n",
              "// WITHOUT WARRANTIES OR CONDITIONS OF ANY KIND, either express or implied.\n",
              "// See the License for the specific language governing permissions and\n",
              "// limitations under the License.\n",
              "\n",
              "/**\n",
              " * @fileoverview Helpers for google.colab Python module.\n",
              " */\n",
              "(function(scope) {\n",
              "function span(text, styleAttributes = {}) {\n",
              "  const element = document.createElement('span');\n",
              "  element.textContent = text;\n",
              "  for (const key of Object.keys(styleAttributes)) {\n",
              "    element.style[key] = styleAttributes[key];\n",
              "  }\n",
              "  return element;\n",
              "}\n",
              "\n",
              "// Max number of bytes which will be uploaded at a time.\n",
              "const MAX_PAYLOAD_SIZE = 100 * 1024;\n",
              "\n",
              "function _uploadFiles(inputId, outputId) {\n",
              "  const steps = uploadFilesStep(inputId, outputId);\n",
              "  const outputElement = document.getElementById(outputId);\n",
              "  // Cache steps on the outputElement to make it available for the next call\n",
              "  // to uploadFilesContinue from Python.\n",
              "  outputElement.steps = steps;\n",
              "\n",
              "  return _uploadFilesContinue(outputId);\n",
              "}\n",
              "\n",
              "// This is roughly an async generator (not supported in the browser yet),\n",
              "// where there are multiple asynchronous steps and the Python side is going\n",
              "// to poll for completion of each step.\n",
              "// This uses a Promise to block the python side on completion of each step,\n",
              "// then passes the result of the previous step as the input to the next step.\n",
              "function _uploadFilesContinue(outputId) {\n",
              "  const outputElement = document.getElementById(outputId);\n",
              "  const steps = outputElement.steps;\n",
              "\n",
              "  const next = steps.next(outputElement.lastPromiseValue);\n",
              "  return Promise.resolve(next.value.promise).then((value) => {\n",
              "    // Cache the last promise value to make it available to the next\n",
              "    // step of the generator.\n",
              "    outputElement.lastPromiseValue = value;\n",
              "    return next.value.response;\n",
              "  });\n",
              "}\n",
              "\n",
              "/**\n",
              " * Generator function which is called between each async step of the upload\n",
              " * process.\n",
              " * @param {string} inputId Element ID of the input file picker element.\n",
              " * @param {string} outputId Element ID of the output display.\n",
              " * @return {!Iterable<!Object>} Iterable of next steps.\n",
              " */\n",
              "function* uploadFilesStep(inputId, outputId) {\n",
              "  const inputElement = document.getElementById(inputId);\n",
              "  inputElement.disabled = false;\n",
              "\n",
              "  const outputElement = document.getElementById(outputId);\n",
              "  outputElement.innerHTML = '';\n",
              "\n",
              "  const pickedPromise = new Promise((resolve) => {\n",
              "    inputElement.addEventListener('change', (e) => {\n",
              "      resolve(e.target.files);\n",
              "    });\n",
              "  });\n",
              "\n",
              "  const cancel = document.createElement('button');\n",
              "  inputElement.parentElement.appendChild(cancel);\n",
              "  cancel.textContent = 'Cancel upload';\n",
              "  const cancelPromise = new Promise((resolve) => {\n",
              "    cancel.onclick = () => {\n",
              "      resolve(null);\n",
              "    };\n",
              "  });\n",
              "\n",
              "  // Wait for the user to pick the files.\n",
              "  const files = yield {\n",
              "    promise: Promise.race([pickedPromise, cancelPromise]),\n",
              "    response: {\n",
              "      action: 'starting',\n",
              "    }\n",
              "  };\n",
              "\n",
              "  cancel.remove();\n",
              "\n",
              "  // Disable the input element since further picks are not allowed.\n",
              "  inputElement.disabled = true;\n",
              "\n",
              "  if (!files) {\n",
              "    return {\n",
              "      response: {\n",
              "        action: 'complete',\n",
              "      }\n",
              "    };\n",
              "  }\n",
              "\n",
              "  for (const file of files) {\n",
              "    const li = document.createElement('li');\n",
              "    li.append(span(file.name, {fontWeight: 'bold'}));\n",
              "    li.append(span(\n",
              "        `(${file.type || 'n/a'}) - ${file.size} bytes, ` +\n",
              "        `last modified: ${\n",
              "            file.lastModifiedDate ? file.lastModifiedDate.toLocaleDateString() :\n",
              "                                    'n/a'} - `));\n",
              "    const percent = span('0% done');\n",
              "    li.appendChild(percent);\n",
              "\n",
              "    outputElement.appendChild(li);\n",
              "\n",
              "    const fileDataPromise = new Promise((resolve) => {\n",
              "      const reader = new FileReader();\n",
              "      reader.onload = (e) => {\n",
              "        resolve(e.target.result);\n",
              "      };\n",
              "      reader.readAsArrayBuffer(file);\n",
              "    });\n",
              "    // Wait for the data to be ready.\n",
              "    let fileData = yield {\n",
              "      promise: fileDataPromise,\n",
              "      response: {\n",
              "        action: 'continue',\n",
              "      }\n",
              "    };\n",
              "\n",
              "    // Use a chunked sending to avoid message size limits. See b/62115660.\n",
              "    let position = 0;\n",
              "    do {\n",
              "      const length = Math.min(fileData.byteLength - position, MAX_PAYLOAD_SIZE);\n",
              "      const chunk = new Uint8Array(fileData, position, length);\n",
              "      position += length;\n",
              "\n",
              "      const base64 = btoa(String.fromCharCode.apply(null, chunk));\n",
              "      yield {\n",
              "        response: {\n",
              "          action: 'append',\n",
              "          file: file.name,\n",
              "          data: base64,\n",
              "        },\n",
              "      };\n",
              "\n",
              "      let percentDone = fileData.byteLength === 0 ?\n",
              "          100 :\n",
              "          Math.round((position / fileData.byteLength) * 100);\n",
              "      percent.textContent = `${percentDone}% done`;\n",
              "\n",
              "    } while (position < fileData.byteLength);\n",
              "  }\n",
              "\n",
              "  // All done.\n",
              "  yield {\n",
              "    response: {\n",
              "      action: 'complete',\n",
              "    }\n",
              "  };\n",
              "}\n",
              "\n",
              "scope.google = scope.google || {};\n",
              "scope.google.colab = scope.google.colab || {};\n",
              "scope.google.colab._files = {\n",
              "  _uploadFiles,\n",
              "  _uploadFilesContinue,\n",
              "};\n",
              "})(self);\n",
              "</script> "
            ]
          },
          "metadata": {}
        },
        {
          "output_type": "stream",
          "name": "stdout",
          "text": [
            "Saving kaggle.json to kaggle.json\n"
          ]
        },
        {
          "output_type": "execute_result",
          "data": {
            "text/plain": [
              "{'kaggle.json': b'{\"username\":\"andrsbentezconcha\",\"key\":\"1803aefc5414583d80ac97197ddb8271\"}'}"
            ]
          },
          "metadata": {},
          "execution_count": 3
        }
      ]
    },
    {
      "cell_type": "code",
      "source": [
        "import os\n",
        "os.environ['KAGGLE_CONFIG_DIR'] = \"/content\"  # Ruta donde colocaste el archivo kaggle.json"
      ],
      "metadata": {
        "id": "FFmgWERmkQgU"
      },
      "execution_count": 4,
      "outputs": []
    },
    {
      "cell_type": "code",
      "source": [
        "import shutil\n",
        "from kaggle.api.kaggle_api_extended import KaggleApi\n",
        "\n",
        "# Crear una instancia de la API de Kaggle y autenticar\n",
        "api = KaggleApi()\n",
        "\n",
        "# Descargar el conjunto de datos Wine Reviews de Kaggle\n",
        "dataset_name = \"zynicide/wine-reviews\"  # Nombre correcto del dataset\n",
        "download_path = \"/content/wine-reviews.zip\"  # Ruta de descarga del archivo ZIP\n",
        "\n",
        "# Descargar el conjunto de datos\n",
        "api.dataset_download_files(dataset_name, path=download_path, unzip=True)\n",
        "\n",
        "# Mover los archivos a la carpeta '/content/wine-reviews'\n",
        "destination_path = \"/content/wine-reviews\"\n",
        "if not os.path.exists(destination_path):\n",
        "    os.makedirs(destination_path)\n",
        "\n",
        "# Mover los archivos descargados a la carpeta de destino\n",
        "shutil.move(download_path, destination_path)\n",
        "\n",
        "print(f\"Archivos movidos a: {destination_path}\")\n"
      ],
      "metadata": {
        "id": "s-gaqNb5jPEs",
        "colab": {
          "base_uri": "https://localhost:8080/"
        },
        "outputId": "56bf9903-dbeb-4541-9411-2462049c3997"
      },
      "execution_count": 5,
      "outputs": [
        {
          "output_type": "stream",
          "name": "stdout",
          "text": [
            "Warning: Your Kaggle API key is readable by other users on this system! To fix this, you can run 'chmod 600 /content/kaggle.json'\n",
            "Dataset URL: https://www.kaggle.com/datasets/zynicide/wine-reviews\n",
            "Archivos movidos a: /content/wine-reviews\n"
          ]
        }
      ]
    },
    {
      "cell_type": "code",
      "source": [
        "# Ruta al archivo CSV que se descomprimió\n",
        "csv_file_path = '/content/wine-reviews/winemag-data-130k-v2.csv'"
      ],
      "metadata": {
        "id": "onggj_nxofMs"
      },
      "execution_count": 6,
      "outputs": []
    },
    {
      "cell_type": "markdown",
      "source": [
        "se cargan los dos df"
      ],
      "metadata": {
        "id": "y3ltxbsIue4O"
      }
    },
    {
      "cell_type": "code",
      "source": [
        "import pandas as pd"
      ],
      "metadata": {
        "id": "6Dox5fQgcC0g"
      },
      "execution_count": 7,
      "outputs": []
    },
    {
      "cell_type": "code",
      "source": [
        "df1 = pd.read_csv(\"/content/wine-reviews/wine-reviews.zip/winemag-data_first150k.csv\")\n",
        "df2 = pd.read_csv(\"/content/wine-reviews/wine-reviews.zip/winemag-data-130k-v2.csv\")"
      ],
      "metadata": {
        "id": "Iqusc956oq6S"
      },
      "execution_count": 8,
      "outputs": []
    },
    {
      "cell_type": "code",
      "source": [
        "# Eliminar las filas con valores nulos en 'country' y 'province'\n",
        "df1 = df1.dropna(subset=['country', 'province'])"
      ],
      "metadata": {
        "id": "U4dqBQDCVlze"
      },
      "execution_count": 109,
      "outputs": []
    },
    {
      "cell_type": "code",
      "source": [
        "# Eliminar las filas con valores nulos en 'country' y 'province'\n",
        "df2 = df2.dropna(subset=['country', 'province'])"
      ],
      "metadata": {
        "id": "fTmDM8jBVqXJ"
      },
      "execution_count": 110,
      "outputs": []
    },
    {
      "cell_type": "code",
      "source": [
        "# Eliminar las filas con valores nulos en variety\n",
        "df2 = df2.dropna(subset=['variety'])"
      ],
      "metadata": {
        "id": "iRrLRyP7Vt1w"
      },
      "execution_count": 11,
      "outputs": []
    },
    {
      "cell_type": "code",
      "source": [
        "df2['price'].fillna(df2['price'].median(), inplace=True)"
      ],
      "metadata": {
        "colab": {
          "base_uri": "https://localhost:8080/"
        },
        "id": "zVBv9iV6VweK",
        "outputId": "438410f3-ff36-4d05-ddfc-707a166ccd5b"
      },
      "execution_count": 12,
      "outputs": [
        {
          "output_type": "stream",
          "name": "stderr",
          "text": [
            "<ipython-input-12-129ccf0a5d08>:1: FutureWarning: A value is trying to be set on a copy of a DataFrame or Series through chained assignment using an inplace method.\n",
            "The behavior will change in pandas 3.0. This inplace method will never work because the intermediate object on which we are setting values always behaves as a copy.\n",
            "\n",
            "For example, when doing 'df[col].method(value, inplace=True)', try using 'df.method({col: value}, inplace=True)' or df[col] = df[col].method(value) instead, to perform the operation inplace on the original object.\n",
            "\n",
            "\n",
            "  df2['price'].fillna(df2['price'].median(), inplace=True)\n"
          ]
        }
      ]
    },
    {
      "cell_type": "code",
      "source": [
        "# Crear una nueva columna para la relación calidad-precio\n",
        "df2['quality_price_ratio'] = df2['points'] / df2['price']"
      ],
      "metadata": {
        "id": "CZUcQVRqV0yq"
      },
      "execution_count": 13,
      "outputs": []
    },
    {
      "cell_type": "code",
      "source": [
        "# Eliminar las filas con datos faltantes en la columna 'region_1'\n",
        "df2= df2.dropna(subset=['region_1'])"
      ],
      "metadata": {
        "id": "xXQZCaJEV5yw"
      },
      "execution_count": 14,
      "outputs": []
    },
    {
      "cell_type": "markdown",
      "source": [
        "**Breve descripción de las variables**"
      ],
      "metadata": {
        "id": "nVS2w2Fer2XF"
      }
    },
    {
      "cell_type": "markdown",
      "source": [
        "**country**: El país de origen del vino.\n",
        "\n",
        "**description**: Una descripción del vino, donde se detallan las características como sabor, aroma y notas de cata.\n",
        "\n",
        "**designation**: Nombre o designación específica del vino, a menudo relacionado con la bodega o la subregión.\n",
        "\n",
        "**points**: La puntuación otorgada al vino por los catadores, generalmente en una escala de 1 a 100.\n",
        "\n",
        "**price**: El precio del vino, en la moneda local del país de origen.\n",
        "\n",
        "**province**: La provincia o estado dentro del país donde se produce el vino.\n",
        "\n",
        "**region_1**: Una región más específica dentro de la provincia, indicando la zona exacta de producción.\n",
        "\n",
        "**region_2**: Una subregión aún más específica dentro de region_1, aunque a menudo está vacía.\n",
        "\n",
        "**variety**: El tipo de uva (variedad) utilizada para el vino.\n",
        "\n",
        "**winery**: El nombre de la bodega o productor del vino."
      ],
      "metadata": {
        "id": "wV0riJkbqkeC"
      }
    },
    {
      "cell_type": "code",
      "source": [
        "df2.shape"
      ],
      "metadata": {
        "colab": {
          "base_uri": "https://localhost:8080/"
        },
        "id": "irRRNqtXs2dx",
        "outputId": "38efa754-8e01-46ab-f377-9e57aa2b38bd"
      },
      "execution_count": 111,
      "outputs": [
        {
          "output_type": "execute_result",
          "data": {
            "text/plain": [
              "(108724, 15)"
            ]
          },
          "metadata": {},
          "execution_count": 111
        }
      ]
    },
    {
      "cell_type": "markdown",
      "source": [
        "# 1. Dataframe definido para los modelos de recomendación"
      ],
      "metadata": {
        "id": "YhTr4zQc4A46"
      }
    },
    {
      "cell_type": "markdown",
      "source": [
        "ya que tuve problemas con la RAM , vamos a particionar el df2 mediante la seleccion de los vinos de los 3 paises que mejor puntaje promedio tienen. Y además otra particion en precios 20% más bajos. con eso llego a un aprox de 5000 filas.\n",
        "\n",
        "vinos en paises con mejor puntaje y menor precio"
      ],
      "metadata": {
        "id": "6xnKAw8nBCOF"
      }
    },
    {
      "cell_type": "code",
      "source": [
        "from sklearn.preprocessing import StandardScaler\n",
        "from sklearn.metrics.pairwise import cosine_similarity\n",
        "import pandas as pd\n",
        "from sklearn.feature_extraction.text import TfidfVectorizer\n",
        "from sklearn.metrics.pairwise import cosine_similarity\n",
        "from sklearn.preprocessing import LabelEncoder\n",
        "from scipy.sparse import hstack"
      ],
      "metadata": {
        "id": "z53mFouJCIn2"
      },
      "execution_count": 149,
      "outputs": []
    },
    {
      "cell_type": "markdown",
      "source": [
        "denifimos el daframe particionado en vinos baratos y con los paises de mejor puntaje (con este df se van a generar los dos modelos, el de contenido y el colaborativo)."
      ],
      "metadata": {
        "id": "BE83I8RaEKi_"
      }
    },
    {
      "cell_type": "code",
      "source": [
        "# Calcular el puntaje promedio por país\n",
        "avg_points_by_country = df2.groupby('country')['points'].mean().sort_values(ascending=False)"
      ],
      "metadata": {
        "id": "cPutTziYehDg"
      },
      "execution_count": 118,
      "outputs": []
    },
    {
      "cell_type": "code",
      "source": [
        "avg_points_by_country"
      ],
      "metadata": {
        "colab": {
          "base_uri": "https://localhost:8080/",
          "height": 335
        },
        "id": "lrFo8t91Ed3I",
        "outputId": "29502531-8101-41e3-e11d-368917eab5e8"
      },
      "execution_count": 120,
      "outputs": [
        {
          "output_type": "execute_result",
          "data": {
            "text/plain": [
              "country\n",
              "Canada       89.369650\n",
              "France       88.850979\n",
              "Australia    88.582725\n",
              "US           88.573876\n",
              "Italy        88.561677\n",
              "Spain        87.286274\n",
              "Argentina    86.721110\n",
              "Name: points, dtype: float64"
            ],
            "text/html": [
              "<div>\n",
              "<style scoped>\n",
              "    .dataframe tbody tr th:only-of-type {\n",
              "        vertical-align: middle;\n",
              "    }\n",
              "\n",
              "    .dataframe tbody tr th {\n",
              "        vertical-align: top;\n",
              "    }\n",
              "\n",
              "    .dataframe thead th {\n",
              "        text-align: right;\n",
              "    }\n",
              "</style>\n",
              "<table border=\"1\" class=\"dataframe\">\n",
              "  <thead>\n",
              "    <tr style=\"text-align: right;\">\n",
              "      <th></th>\n",
              "      <th>points</th>\n",
              "    </tr>\n",
              "    <tr>\n",
              "      <th>country</th>\n",
              "      <th></th>\n",
              "    </tr>\n",
              "  </thead>\n",
              "  <tbody>\n",
              "    <tr>\n",
              "      <th>Canada</th>\n",
              "      <td>89.369650</td>\n",
              "    </tr>\n",
              "    <tr>\n",
              "      <th>France</th>\n",
              "      <td>88.850979</td>\n",
              "    </tr>\n",
              "    <tr>\n",
              "      <th>Australia</th>\n",
              "      <td>88.582725</td>\n",
              "    </tr>\n",
              "    <tr>\n",
              "      <th>US</th>\n",
              "      <td>88.573876</td>\n",
              "    </tr>\n",
              "    <tr>\n",
              "      <th>Italy</th>\n",
              "      <td>88.561677</td>\n",
              "    </tr>\n",
              "    <tr>\n",
              "      <th>Spain</th>\n",
              "      <td>87.286274</td>\n",
              "    </tr>\n",
              "    <tr>\n",
              "      <th>Argentina</th>\n",
              "      <td>86.721110</td>\n",
              "    </tr>\n",
              "  </tbody>\n",
              "</table>\n",
              "</div><br><label><b>dtype:</b> float64</label>"
            ]
          },
          "metadata": {},
          "execution_count": 120
        }
      ]
    },
    {
      "cell_type": "code",
      "source": [
        "# Seleccionar los tres países con mayor puntaje promedio\n",
        "top_countries = avg_points_by_country.head(3).index"
      ],
      "metadata": {
        "id": "bfhb9rdnelI5"
      },
      "execution_count": 121,
      "outputs": []
    },
    {
      "cell_type": "code",
      "source": [
        "top_countries"
      ],
      "metadata": {
        "colab": {
          "base_uri": "https://localhost:8080/"
        },
        "id": "NhFfXfpKEgrB",
        "outputId": "e2276f05-c27e-481a-9d1e-f93fc1263796"
      },
      "execution_count": 122,
      "outputs": [
        {
          "output_type": "execute_result",
          "data": {
            "text/plain": [
              "Index(['Canada', 'France', 'Australia'], dtype='object', name='country')"
            ]
          },
          "metadata": {},
          "execution_count": 122
        }
      ]
    },
    {
      "cell_type": "code",
      "source": [
        "# Filtrar el DataFrame por los tres países con puntajes más altos\n",
        "df_filtered = df2[df2['country'].isin(top_countries)]"
      ],
      "metadata": {
        "id": "VykbfLYcen9H"
      },
      "execution_count": 125,
      "outputs": []
    },
    {
      "cell_type": "code",
      "source": [
        "# Filtrar los precios bajos (por ejemplo, seleccionamos el 20% inferior de los precios)\n",
        "price_threshold = df_filtered['price'].quantile(0.2)\n",
        "df_filtered = df_filtered[df_filtered['price'] <= price_threshold]"
      ],
      "metadata": {
        "id": "oR1BHjAces-7"
      },
      "execution_count": 128,
      "outputs": []
    },
    {
      "cell_type": "code",
      "source": [
        "# Ver las primeras filas del DataFrame filtrado\n",
        "df_filtered.head()"
      ],
      "metadata": {
        "colab": {
          "base_uri": "https://localhost:8080/",
          "height": 608
        },
        "id": "SdgxO-KXev1a",
        "outputId": "d0ea86e8-6c1b-4a0c-a260-8b6016bf2c93"
      },
      "execution_count": 129,
      "outputs": [
        {
          "output_type": "execute_result",
          "data": {
            "text/plain": [
              "    Unnamed: 0 country                                        description  \\\n",
              "42          42  France  This is a festive wine, with soft, ripe fruit ...   \n",
              "49          49  France  Soft and fruity, this is a generous, ripe wine...   \n",
              "53          53  France  Fruity and lightly herbaceous, this has fine t...   \n",
              "66          66  France  This soft, rounded wine is ripe with generous ...   \n",
              "82          82  France  This fruity, sweet wine is immediately attract...   \n",
              "\n",
              "          designation  points  price      province               region_1  \\\n",
              "42            Nouveau      86    9.0    Beaujolais             Beaujolais   \n",
              "49         Eté Indien      86   14.0    Beaujolais               Brouilly   \n",
              "53  La Fleur d'Amélie      85   15.0      Bordeaux         Bordeaux Blanc   \n",
              "66                NaN      86   15.0      Burgundy  Mâcon-Milly Lamartine   \n",
              "82         La Réserve      86   11.0  France Other          Vin de France   \n",
              "\n",
              "   region_2 taster_name taster_twitter_handle  \\\n",
              "42      NaN  Roger Voss            @vossroger   \n",
              "49      NaN  Roger Voss            @vossroger   \n",
              "53      NaN  Roger Voss            @vossroger   \n",
              "66      NaN  Roger Voss            @vossroger   \n",
              "82      NaN  Roger Voss            @vossroger   \n",
              "\n",
              "                                                title  \\\n",
              "42             Henry Fessy 2012 Nouveau  (Beaujolais)   \n",
              "49   Vignerons de Bel Air 2011 Eté Indien  (Brouilly)   \n",
              "53  Château de Sours 2011 La Fleur d'Amélie  (Bord...   \n",
              "66  Vignerons des Terres Secrètes 2015  Mâcon-Mill...   \n",
              "82  Lionel Osmin & Cie 2016 La Réserve Petit Manse...   \n",
              "\n",
              "                       variety                         winery  \\\n",
              "42                       Gamay                    Henry Fessy   \n",
              "49                       Gamay           Vignerons de Bel Air   \n",
              "53  Bordeaux-style White Blend               Château de Sours   \n",
              "66                  Chardonnay  Vignerons des Terres Secrètes   \n",
              "82               Petit Manseng             Lionel Osmin & Cie   \n",
              "\n",
              "    quality_price_ratio  \n",
              "42             9.555556  \n",
              "49             6.142857  \n",
              "53             5.666667  \n",
              "66             5.733333  \n",
              "82             7.818182  "
            ],
            "text/html": [
              "\n",
              "  <div id=\"df-475ef43c-d63e-48b9-9d6f-197e3fdea3ad\" class=\"colab-df-container\">\n",
              "    <div>\n",
              "<style scoped>\n",
              "    .dataframe tbody tr th:only-of-type {\n",
              "        vertical-align: middle;\n",
              "    }\n",
              "\n",
              "    .dataframe tbody tr th {\n",
              "        vertical-align: top;\n",
              "    }\n",
              "\n",
              "    .dataframe thead th {\n",
              "        text-align: right;\n",
              "    }\n",
              "</style>\n",
              "<table border=\"1\" class=\"dataframe\">\n",
              "  <thead>\n",
              "    <tr style=\"text-align: right;\">\n",
              "      <th></th>\n",
              "      <th>Unnamed: 0</th>\n",
              "      <th>country</th>\n",
              "      <th>description</th>\n",
              "      <th>designation</th>\n",
              "      <th>points</th>\n",
              "      <th>price</th>\n",
              "      <th>province</th>\n",
              "      <th>region_1</th>\n",
              "      <th>region_2</th>\n",
              "      <th>taster_name</th>\n",
              "      <th>taster_twitter_handle</th>\n",
              "      <th>title</th>\n",
              "      <th>variety</th>\n",
              "      <th>winery</th>\n",
              "      <th>quality_price_ratio</th>\n",
              "    </tr>\n",
              "  </thead>\n",
              "  <tbody>\n",
              "    <tr>\n",
              "      <th>42</th>\n",
              "      <td>42</td>\n",
              "      <td>France</td>\n",
              "      <td>This is a festive wine, with soft, ripe fruit ...</td>\n",
              "      <td>Nouveau</td>\n",
              "      <td>86</td>\n",
              "      <td>9.0</td>\n",
              "      <td>Beaujolais</td>\n",
              "      <td>Beaujolais</td>\n",
              "      <td>NaN</td>\n",
              "      <td>Roger Voss</td>\n",
              "      <td>@vossroger</td>\n",
              "      <td>Henry Fessy 2012 Nouveau  (Beaujolais)</td>\n",
              "      <td>Gamay</td>\n",
              "      <td>Henry Fessy</td>\n",
              "      <td>9.555556</td>\n",
              "    </tr>\n",
              "    <tr>\n",
              "      <th>49</th>\n",
              "      <td>49</td>\n",
              "      <td>France</td>\n",
              "      <td>Soft and fruity, this is a generous, ripe wine...</td>\n",
              "      <td>Eté Indien</td>\n",
              "      <td>86</td>\n",
              "      <td>14.0</td>\n",
              "      <td>Beaujolais</td>\n",
              "      <td>Brouilly</td>\n",
              "      <td>NaN</td>\n",
              "      <td>Roger Voss</td>\n",
              "      <td>@vossroger</td>\n",
              "      <td>Vignerons de Bel Air 2011 Eté Indien  (Brouilly)</td>\n",
              "      <td>Gamay</td>\n",
              "      <td>Vignerons de Bel Air</td>\n",
              "      <td>6.142857</td>\n",
              "    </tr>\n",
              "    <tr>\n",
              "      <th>53</th>\n",
              "      <td>53</td>\n",
              "      <td>France</td>\n",
              "      <td>Fruity and lightly herbaceous, this has fine t...</td>\n",
              "      <td>La Fleur d'Amélie</td>\n",
              "      <td>85</td>\n",
              "      <td>15.0</td>\n",
              "      <td>Bordeaux</td>\n",
              "      <td>Bordeaux Blanc</td>\n",
              "      <td>NaN</td>\n",
              "      <td>Roger Voss</td>\n",
              "      <td>@vossroger</td>\n",
              "      <td>Château de Sours 2011 La Fleur d'Amélie  (Bord...</td>\n",
              "      <td>Bordeaux-style White Blend</td>\n",
              "      <td>Château de Sours</td>\n",
              "      <td>5.666667</td>\n",
              "    </tr>\n",
              "    <tr>\n",
              "      <th>66</th>\n",
              "      <td>66</td>\n",
              "      <td>France</td>\n",
              "      <td>This soft, rounded wine is ripe with generous ...</td>\n",
              "      <td>NaN</td>\n",
              "      <td>86</td>\n",
              "      <td>15.0</td>\n",
              "      <td>Burgundy</td>\n",
              "      <td>Mâcon-Milly Lamartine</td>\n",
              "      <td>NaN</td>\n",
              "      <td>Roger Voss</td>\n",
              "      <td>@vossroger</td>\n",
              "      <td>Vignerons des Terres Secrètes 2015  Mâcon-Mill...</td>\n",
              "      <td>Chardonnay</td>\n",
              "      <td>Vignerons des Terres Secrètes</td>\n",
              "      <td>5.733333</td>\n",
              "    </tr>\n",
              "    <tr>\n",
              "      <th>82</th>\n",
              "      <td>82</td>\n",
              "      <td>France</td>\n",
              "      <td>This fruity, sweet wine is immediately attract...</td>\n",
              "      <td>La Réserve</td>\n",
              "      <td>86</td>\n",
              "      <td>11.0</td>\n",
              "      <td>France Other</td>\n",
              "      <td>Vin de France</td>\n",
              "      <td>NaN</td>\n",
              "      <td>Roger Voss</td>\n",
              "      <td>@vossroger</td>\n",
              "      <td>Lionel Osmin &amp; Cie 2016 La Réserve Petit Manse...</td>\n",
              "      <td>Petit Manseng</td>\n",
              "      <td>Lionel Osmin &amp; Cie</td>\n",
              "      <td>7.818182</td>\n",
              "    </tr>\n",
              "  </tbody>\n",
              "</table>\n",
              "</div>\n",
              "    <div class=\"colab-df-buttons\">\n",
              "\n",
              "  <div class=\"colab-df-container\">\n",
              "    <button class=\"colab-df-convert\" onclick=\"convertToInteractive('df-475ef43c-d63e-48b9-9d6f-197e3fdea3ad')\"\n",
              "            title=\"Convert this dataframe to an interactive table.\"\n",
              "            style=\"display:none;\">\n",
              "\n",
              "  <svg xmlns=\"http://www.w3.org/2000/svg\" height=\"24px\" viewBox=\"0 -960 960 960\">\n",
              "    <path d=\"M120-120v-720h720v720H120Zm60-500h600v-160H180v160Zm220 220h160v-160H400v160Zm0 220h160v-160H400v160ZM180-400h160v-160H180v160Zm440 0h160v-160H620v160ZM180-180h160v-160H180v160Zm440 0h160v-160H620v160Z\"/>\n",
              "  </svg>\n",
              "    </button>\n",
              "\n",
              "  <style>\n",
              "    .colab-df-container {\n",
              "      display:flex;\n",
              "      gap: 12px;\n",
              "    }\n",
              "\n",
              "    .colab-df-convert {\n",
              "      background-color: #E8F0FE;\n",
              "      border: none;\n",
              "      border-radius: 50%;\n",
              "      cursor: pointer;\n",
              "      display: none;\n",
              "      fill: #1967D2;\n",
              "      height: 32px;\n",
              "      padding: 0 0 0 0;\n",
              "      width: 32px;\n",
              "    }\n",
              "\n",
              "    .colab-df-convert:hover {\n",
              "      background-color: #E2EBFA;\n",
              "      box-shadow: 0px 1px 2px rgba(60, 64, 67, 0.3), 0px 1px 3px 1px rgba(60, 64, 67, 0.15);\n",
              "      fill: #174EA6;\n",
              "    }\n",
              "\n",
              "    .colab-df-buttons div {\n",
              "      margin-bottom: 4px;\n",
              "    }\n",
              "\n",
              "    [theme=dark] .colab-df-convert {\n",
              "      background-color: #3B4455;\n",
              "      fill: #D2E3FC;\n",
              "    }\n",
              "\n",
              "    [theme=dark] .colab-df-convert:hover {\n",
              "      background-color: #434B5C;\n",
              "      box-shadow: 0px 1px 3px 1px rgba(0, 0, 0, 0.15);\n",
              "      filter: drop-shadow(0px 1px 2px rgba(0, 0, 0, 0.3));\n",
              "      fill: #FFFFFF;\n",
              "    }\n",
              "  </style>\n",
              "\n",
              "    <script>\n",
              "      const buttonEl =\n",
              "        document.querySelector('#df-475ef43c-d63e-48b9-9d6f-197e3fdea3ad button.colab-df-convert');\n",
              "      buttonEl.style.display =\n",
              "        google.colab.kernel.accessAllowed ? 'block' : 'none';\n",
              "\n",
              "      async function convertToInteractive(key) {\n",
              "        const element = document.querySelector('#df-475ef43c-d63e-48b9-9d6f-197e3fdea3ad');\n",
              "        const dataTable =\n",
              "          await google.colab.kernel.invokeFunction('convertToInteractive',\n",
              "                                                    [key], {});\n",
              "        if (!dataTable) return;\n",
              "\n",
              "        const docLinkHtml = 'Like what you see? Visit the ' +\n",
              "          '<a target=\"_blank\" href=https://colab.research.google.com/notebooks/data_table.ipynb>data table notebook</a>'\n",
              "          + ' to learn more about interactive tables.';\n",
              "        element.innerHTML = '';\n",
              "        dataTable['output_type'] = 'display_data';\n",
              "        await google.colab.output.renderOutput(dataTable, element);\n",
              "        const docLink = document.createElement('div');\n",
              "        docLink.innerHTML = docLinkHtml;\n",
              "        element.appendChild(docLink);\n",
              "      }\n",
              "    </script>\n",
              "  </div>\n",
              "\n",
              "\n",
              "<div id=\"df-43d78316-1aee-4e6a-bd8d-3d7168efe00c\">\n",
              "  <button class=\"colab-df-quickchart\" onclick=\"quickchart('df-43d78316-1aee-4e6a-bd8d-3d7168efe00c')\"\n",
              "            title=\"Suggest charts\"\n",
              "            style=\"display:none;\">\n",
              "\n",
              "<svg xmlns=\"http://www.w3.org/2000/svg\" height=\"24px\"viewBox=\"0 0 24 24\"\n",
              "     width=\"24px\">\n",
              "    <g>\n",
              "        <path d=\"M19 3H5c-1.1 0-2 .9-2 2v14c0 1.1.9 2 2 2h14c1.1 0 2-.9 2-2V5c0-1.1-.9-2-2-2zM9 17H7v-7h2v7zm4 0h-2V7h2v10zm4 0h-2v-4h2v4z\"/>\n",
              "    </g>\n",
              "</svg>\n",
              "  </button>\n",
              "\n",
              "<style>\n",
              "  .colab-df-quickchart {\n",
              "      --bg-color: #E8F0FE;\n",
              "      --fill-color: #1967D2;\n",
              "      --hover-bg-color: #E2EBFA;\n",
              "      --hover-fill-color: #174EA6;\n",
              "      --disabled-fill-color: #AAA;\n",
              "      --disabled-bg-color: #DDD;\n",
              "  }\n",
              "\n",
              "  [theme=dark] .colab-df-quickchart {\n",
              "      --bg-color: #3B4455;\n",
              "      --fill-color: #D2E3FC;\n",
              "      --hover-bg-color: #434B5C;\n",
              "      --hover-fill-color: #FFFFFF;\n",
              "      --disabled-bg-color: #3B4455;\n",
              "      --disabled-fill-color: #666;\n",
              "  }\n",
              "\n",
              "  .colab-df-quickchart {\n",
              "    background-color: var(--bg-color);\n",
              "    border: none;\n",
              "    border-radius: 50%;\n",
              "    cursor: pointer;\n",
              "    display: none;\n",
              "    fill: var(--fill-color);\n",
              "    height: 32px;\n",
              "    padding: 0;\n",
              "    width: 32px;\n",
              "  }\n",
              "\n",
              "  .colab-df-quickchart:hover {\n",
              "    background-color: var(--hover-bg-color);\n",
              "    box-shadow: 0 1px 2px rgba(60, 64, 67, 0.3), 0 1px 3px 1px rgba(60, 64, 67, 0.15);\n",
              "    fill: var(--button-hover-fill-color);\n",
              "  }\n",
              "\n",
              "  .colab-df-quickchart-complete:disabled,\n",
              "  .colab-df-quickchart-complete:disabled:hover {\n",
              "    background-color: var(--disabled-bg-color);\n",
              "    fill: var(--disabled-fill-color);\n",
              "    box-shadow: none;\n",
              "  }\n",
              "\n",
              "  .colab-df-spinner {\n",
              "    border: 2px solid var(--fill-color);\n",
              "    border-color: transparent;\n",
              "    border-bottom-color: var(--fill-color);\n",
              "    animation:\n",
              "      spin 1s steps(1) infinite;\n",
              "  }\n",
              "\n",
              "  @keyframes spin {\n",
              "    0% {\n",
              "      border-color: transparent;\n",
              "      border-bottom-color: var(--fill-color);\n",
              "      border-left-color: var(--fill-color);\n",
              "    }\n",
              "    20% {\n",
              "      border-color: transparent;\n",
              "      border-left-color: var(--fill-color);\n",
              "      border-top-color: var(--fill-color);\n",
              "    }\n",
              "    30% {\n",
              "      border-color: transparent;\n",
              "      border-left-color: var(--fill-color);\n",
              "      border-top-color: var(--fill-color);\n",
              "      border-right-color: var(--fill-color);\n",
              "    }\n",
              "    40% {\n",
              "      border-color: transparent;\n",
              "      border-right-color: var(--fill-color);\n",
              "      border-top-color: var(--fill-color);\n",
              "    }\n",
              "    60% {\n",
              "      border-color: transparent;\n",
              "      border-right-color: var(--fill-color);\n",
              "    }\n",
              "    80% {\n",
              "      border-color: transparent;\n",
              "      border-right-color: var(--fill-color);\n",
              "      border-bottom-color: var(--fill-color);\n",
              "    }\n",
              "    90% {\n",
              "      border-color: transparent;\n",
              "      border-bottom-color: var(--fill-color);\n",
              "    }\n",
              "  }\n",
              "</style>\n",
              "\n",
              "  <script>\n",
              "    async function quickchart(key) {\n",
              "      const quickchartButtonEl =\n",
              "        document.querySelector('#' + key + ' button');\n",
              "      quickchartButtonEl.disabled = true;  // To prevent multiple clicks.\n",
              "      quickchartButtonEl.classList.add('colab-df-spinner');\n",
              "      try {\n",
              "        const charts = await google.colab.kernel.invokeFunction(\n",
              "            'suggestCharts', [key], {});\n",
              "      } catch (error) {\n",
              "        console.error('Error during call to suggestCharts:', error);\n",
              "      }\n",
              "      quickchartButtonEl.classList.remove('colab-df-spinner');\n",
              "      quickchartButtonEl.classList.add('colab-df-quickchart-complete');\n",
              "    }\n",
              "    (() => {\n",
              "      let quickchartButtonEl =\n",
              "        document.querySelector('#df-43d78316-1aee-4e6a-bd8d-3d7168efe00c button');\n",
              "      quickchartButtonEl.style.display =\n",
              "        google.colab.kernel.accessAllowed ? 'block' : 'none';\n",
              "    })();\n",
              "  </script>\n",
              "</div>\n",
              "\n",
              "    </div>\n",
              "  </div>\n"
            ],
            "application/vnd.google.colaboratory.intrinsic+json": {
              "type": "dataframe",
              "variable_name": "df_filtered",
              "repr_error": "0"
            }
          },
          "metadata": {},
          "execution_count": 129
        }
      ]
    },
    {
      "cell_type": "code",
      "source": [
        "df_filtered.info()"
      ],
      "metadata": {
        "colab": {
          "base_uri": "https://localhost:8080/"
        },
        "id": "Xc0V5xzle--K",
        "outputId": "8bb2ee87-1da1-4245-ecac-c02c02747052"
      },
      "execution_count": 130,
      "outputs": [
        {
          "output_type": "stream",
          "name": "stdout",
          "text": [
            "<class 'pandas.core.frame.DataFrame'>\n",
            "Index: 5137 entries, 42 to 129894\n",
            "Data columns (total 15 columns):\n",
            " #   Column                 Non-Null Count  Dtype  \n",
            "---  ------                 --------------  -----  \n",
            " 0   Unnamed: 0             5137 non-null   int64  \n",
            " 1   country                5137 non-null   object \n",
            " 2   description            5137 non-null   object \n",
            " 3   designation            2961 non-null   object \n",
            " 4   points                 5137 non-null   int64  \n",
            " 5   price                  5137 non-null   float64\n",
            " 6   province               5137 non-null   object \n",
            " 7   region_1               5137 non-null   object \n",
            " 8   region_2               0 non-null      object \n",
            " 9   taster_name            4928 non-null   object \n",
            " 10  taster_twitter_handle  4925 non-null   object \n",
            " 11  title                  5137 non-null   object \n",
            " 12  variety                5137 non-null   object \n",
            " 13  winery                 5137 non-null   object \n",
            " 14  quality_price_ratio    5137 non-null   float64\n",
            "dtypes: float64(2), int64(2), object(11)\n",
            "memory usage: 771.2+ KB\n"
          ]
        }
      ]
    },
    {
      "cell_type": "code",
      "source": [
        "df_filtered.shape"
      ],
      "metadata": {
        "colab": {
          "base_uri": "https://localhost:8080/"
        },
        "id": "pFGJcPJWfPk5",
        "outputId": "c18f5ec8-f17b-479b-b440-80bea1532394"
      },
      "execution_count": 131,
      "outputs": [
        {
          "output_type": "execute_result",
          "data": {
            "text/plain": [
              "(5137, 15)"
            ]
          },
          "metadata": {},
          "execution_count": 131
        }
      ]
    },
    {
      "cell_type": "markdown",
      "source": [
        "1.1 cargamos librerías"
      ],
      "metadata": {
        "id": "-L-c5Opo3yRQ"
      }
    },
    {
      "cell_type": "code",
      "source": [
        "from surprise import Dataset, Reader\n",
        "import numpy as np\n",
        "from surprise.model_selection import train_test_split\n",
        "from surprise import KNNBasic\n",
        "from surprise import accuracy\n",
        "from surprise import SVD\n",
        "from scipy.sparse import coo_matrix\n",
        "from lightfm import LightFM\n",
        "from lightfm.evaluation import auc_score\n",
        "from sklearn.neighbors import NearestNeighbors\n",
        "from sklearn.model_selection import train_test_split\n",
        "import tensorflow as tf\n",
        "from tensorflow.keras.models import Sequential\n",
        "from tensorflow.keras.layers import Dense, Dropout\n",
        "from sklearn.metrics import mean_squared_error\n",
        "from tensorflow.keras.layers import Dense, Dropout\n",
        "from sklearn.model_selection import KFold\n",
        "from tensorflow.keras.optimizers import Adam\n",
        "from sklearn.metrics import mean_absolute_error"
      ],
      "metadata": {
        "id": "QX9v5T2UIDr_"
      },
      "execution_count": 266,
      "outputs": []
    },
    {
      "cell_type": "markdown",
      "source": [
        "# 2.- Sistema de Recomendación de Vinos basado en contenido (Recomendación de vinos similares)"
      ],
      "metadata": {
        "id": "bNsB5FDDFPy8"
      }
    },
    {
      "cell_type": "markdown",
      "source": [
        "utilizo descpción y la vectorizo para utilizarla como criterio o contenido para recomendar vinos.\n",
        "\n",
        "se va a recomendar con las variables: description', 'variety', 'region_1', 'point'"
      ],
      "metadata": {
        "id": "cdOhAI_TFg1h"
      }
    },
    {
      "cell_type": "markdown",
      "source": [
        "combinando las columnas description, variety y region_1 en una nueva columna text_combined para luego utilizarla en el vectorizador TF-IDF. Con esto se provecha varias características textuales para construir un vector representativo para cada vino."
      ],
      "metadata": {
        "id": "F6NzjXPNGJOk"
      }
    },
    {
      "cell_type": "markdown",
      "source": [
        "# 2.1.- Preprocesamiento."
      ],
      "metadata": {
        "id": "fLkQZRXhdqgI"
      }
    },
    {
      "cell_type": "code",
      "source": [
        "df_filtered['text_combined'] = df_filtered['description'].fillna('') + ' ' + df_filtered['variety'].fillna('') + ' ' + df_filtered['region_1'].fillna('') + ' ' + df_filtered['points'].astype(str)"
      ],
      "metadata": {
        "id": "c0nK780tf6yL"
      },
      "execution_count": 215,
      "outputs": []
    },
    {
      "cell_type": "markdown",
      "source": [
        "transformar el texto combinado en una matriz de características numéricas"
      ],
      "metadata": {
        "id": "oY1Y3WcZGc3N"
      }
    },
    {
      "cell_type": "markdown",
      "source": [
        "El parámetro max_features=5000 asegura que solo se mantendrán las 5000 características más relevantes (palabras o términos)."
      ],
      "metadata": {
        "id": "z9mED0rPGinz"
      }
    },
    {
      "cell_type": "code",
      "source": [
        "# Crear un vectorizador TF-IDF para las características combinadas\n",
        "vectorizer = TfidfVectorizer(stop_words='english', max_features=5000)\n",
        "# Ajustar y transformar el texto\n",
        "tfidf_matrix = vectorizer.fit_transform(df_filtered['text_combined'])"
      ],
      "metadata": {
        "id": "5oLiitLrGXg2"
      },
      "execution_count": 216,
      "outputs": []
    },
    {
      "cell_type": "markdown",
      "source": [
        "asegurando que solo las 5000 palabras más relevantes sean consideradas."
      ],
      "metadata": {
        "id": "hBp8dxqNRQsY"
      }
    },
    {
      "cell_type": "code",
      "source": [
        "# Ver el tamaño de la matriz resultante\n",
        "tfidf_matrix.shape"
      ],
      "metadata": {
        "colab": {
          "base_uri": "https://localhost:8080/"
        },
        "id": "0gVPQF_kGkmn",
        "outputId": "4c74ddaf-60c1-4caf-9006-39c849fc1fb8"
      },
      "execution_count": 252,
      "outputs": [
        {
          "output_type": "execute_result",
          "data": {
            "text/plain": [
              "(5137, 5000)"
            ]
          },
          "metadata": {},
          "execution_count": 252
        }
      ]
    },
    {
      "cell_type": "markdown",
      "source": [
        "Calcular la similitud de coseno para descripcion y utilizarla en el modelo de recomendación"
      ],
      "metadata": {
        "id": "E6za84ZsgHaK"
      }
    },
    {
      "cell_type": "code",
      "source": [
        "# Calcular la similitud del coseno entre los vinos\n",
        "cosine_sim = cosine_similarity(tfidf_matrix, tfidf_matrix)\n",
        "\n",
        "# Ver la similitud entre los primeros 5 vinos\n",
        "cosine_sim[:5, :5]\n"
      ],
      "metadata": {
        "colab": {
          "base_uri": "https://localhost:8080/"
        },
        "id": "ue-jMSfLgDoe",
        "outputId": "a3fad6fa-beb6-4188-9381-4d52dd07ffcd"
      },
      "execution_count": 218,
      "outputs": [
        {
          "output_type": "execute_result",
          "data": {
            "text/plain": [
              "array([[1.        , 0.17965174, 0.10086378, 0.10253914, 0.07986085],\n",
              "       [0.17965174, 1.        , 0.0797967 , 0.22220233, 0.12279659],\n",
              "       [0.10086378, 0.0797967 , 1.        , 0.09884771, 0.04431808],\n",
              "       [0.10253914, 0.22220233, 0.09884771, 1.        , 0.05957071],\n",
              "       [0.07986085, 0.12279659, 0.04431808, 0.05957071, 1.        ]])"
            ]
          },
          "metadata": {},
          "execution_count": 218
        }
      ]
    },
    {
      "cell_type": "markdown",
      "source": [
        "Codificación de Variables Categóricas"
      ],
      "metadata": {
        "id": "-JG6FePdwhNf"
      }
    },
    {
      "cell_type": "code",
      "source": [
        "# Codificar las categorías (variedad y región) si es necesario\n",
        "label_encoder = LabelEncoder()\n",
        "df_filtered['variety_encoded'] = label_encoder.fit_transform(df_filtered['variety'])\n",
        "df_filtered['region_encoded'] = label_encoder.fit_transform(df_filtered['region_1'])"
      ],
      "metadata": {
        "id": "knENXBCrbKqs"
      },
      "execution_count": 269,
      "outputs": []
    },
    {
      "cell_type": "markdown",
      "source": [
        "# 2.2.- red neuronal"
      ],
      "metadata": {
        "id": "55jadvNP3Xcs"
      }
    },
    {
      "cell_type": "markdown",
      "source": [
        "Preparación para el Modelo"
      ],
      "metadata": {
        "id": "ysKXZe3Dw-p8"
      }
    },
    {
      "cell_type": "markdown",
      "source": [
        "X (características) e y (puntuaciones)."
      ],
      "metadata": {
        "id": "UpVUllU3xDH7"
      }
    },
    {
      "cell_type": "markdown",
      "source": [
        "objetivo: con la finalidad de predecir las puntuaciones de los vinos"
      ],
      "metadata": {
        "id": "vICrekkiReI9"
      }
    },
    {
      "cell_type": "code",
      "source": [
        "# Convertir las características en una matriz (concatenar el TF-IDF con las variables codificadas)\n",
        "X = np.hstack([tfidf_matrix.toarray(), df_filtered[['variety_encoded', 'region_encoded']].values])"
      ],
      "metadata": {
        "id": "IcP3uuyVbOyx"
      },
      "execution_count": 270,
      "outputs": []
    },
    {
      "cell_type": "code",
      "source": [
        "y = df_filtered['points'].values"
      ],
      "metadata": {
        "id": "96BPtAjZbSzh"
      },
      "execution_count": 271,
      "outputs": []
    },
    {
      "cell_type": "code",
      "source": [
        "# Dividir los datos en entrenamiento y prueba\n",
        "X_train, X_test, y_train, y_test = train_test_split(X, y, test_size=0.2, random_state=42)"
      ],
      "metadata": {
        "id": "UkOznMsAbU9r"
      },
      "execution_count": 272,
      "outputs": []
    },
    {
      "cell_type": "markdown",
      "source": [
        "# 2.3- rede neuronal, utilizando TensorFlow/Keras."
      ],
      "metadata": {
        "id": "l3YlVIbzb2wp"
      }
    },
    {
      "cell_type": "markdown",
      "source": [
        "Construcción del modelo"
      ],
      "metadata": {
        "id": "GwdLGud4eDk7"
      }
    },
    {
      "cell_type": "code",
      "source": [
        "# Crear el modelo de red neuronal\n",
        "model = Sequential()"
      ],
      "metadata": {
        "id": "BPg2Sp_Ub-mT"
      },
      "execution_count": 273,
      "outputs": []
    },
    {
      "cell_type": "code",
      "source": [
        "# Capa de entrada: el tamaño de la entrada es el número de características de X\n",
        "model.add(Dense(128, input_dim=X_train.shape[1], activation='relu'))  # Capa de entrada con activación ReLU\n",
        "\n",
        "# Dropout para evitar el sobreajuste\n",
        "model.add(Dropout(0.2))\n",
        "\n",
        "# Capa oculta\n",
        "model.add(Dense(64, activation='relu'))  # Capa oculta\n",
        "\n",
        "# Capa de salida: una salida para predecir la puntuación (en este caso usamos una salida continua)\n",
        "model.add(Dense(1, activation='linear'))  # Salida continua (valoración del vino)"
      ],
      "metadata": {
        "colab": {
          "base_uri": "https://localhost:8080/"
        },
        "id": "UihMOR1BcJ0g",
        "outputId": "fff0f175-dc62-466e-a0c0-e43d0550ba76"
      },
      "execution_count": 274,
      "outputs": [
        {
          "output_type": "stream",
          "name": "stderr",
          "text": [
            "/usr/local/lib/python3.11/dist-packages/keras/src/layers/core/dense.py:87: UserWarning: Do not pass an `input_shape`/`input_dim` argument to a layer. When using Sequential models, prefer using an `Input(shape)` object as the first layer in the model instead.\n",
            "  super().__init__(activity_regularizer=activity_regularizer, **kwargs)\n"
          ]
        }
      ]
    },
    {
      "cell_type": "code",
      "source": [
        "# Compilar el modelo\n",
        "model.compile(optimizer='adam', loss='mean_squared_error', metrics=['mae'])"
      ],
      "metadata": {
        "id": "G2eE1FD3xyBk"
      },
      "execution_count": 275,
      "outputs": []
    },
    {
      "cell_type": "code",
      "source": [
        "# Resumen del modelo\n",
        "model.summary()"
      ],
      "metadata": {
        "colab": {
          "base_uri": "https://localhost:8080/",
          "height": 272
        },
        "id": "O6lmb8pXcNGe",
        "outputId": "13451ebd-7a4a-419b-cefc-7781ed0d9811"
      },
      "execution_count": 276,
      "outputs": [
        {
          "output_type": "display_data",
          "data": {
            "text/plain": [
              "\u001b[1mModel: \"sequential_4\"\u001b[0m\n"
            ],
            "text/html": [
              "<pre style=\"white-space:pre;overflow-x:auto;line-height:normal;font-family:Menlo,'DejaVu Sans Mono',consolas,'Courier New',monospace\"><span style=\"font-weight: bold\">Model: \"sequential_4\"</span>\n",
              "</pre>\n"
            ]
          },
          "metadata": {}
        },
        {
          "output_type": "display_data",
          "data": {
            "text/plain": [
              "┏━━━━━━━━━━━━━━━━━━━━━━━━━━━━━━━━━━━━━━┳━━━━━━━━━━━━━━━━━━━━━━━━━━━━━┳━━━━━━━━━━━━━━━━━┓\n",
              "┃\u001b[1m \u001b[0m\u001b[1mLayer (type)                        \u001b[0m\u001b[1m \u001b[0m┃\u001b[1m \u001b[0m\u001b[1mOutput Shape               \u001b[0m\u001b[1m \u001b[0m┃\u001b[1m \u001b[0m\u001b[1m        Param #\u001b[0m\u001b[1m \u001b[0m┃\n",
              "┡━━━━━━━━━━━━━━━━━━━━━━━━━━━━━━━━━━━━━━╇━━━━━━━━━━━━━━━━━━━━━━━━━━━━━╇━━━━━━━━━━━━━━━━━┩\n",
              "│ dense_23 (\u001b[38;5;33mDense\u001b[0m)                     │ (\u001b[38;5;45mNone\u001b[0m, \u001b[38;5;34m128\u001b[0m)                 │         \u001b[38;5;34m640,384\u001b[0m │\n",
              "├──────────────────────────────────────┼─────────────────────────────┼─────────────────┤\n",
              "│ dropout_7 (\u001b[38;5;33mDropout\u001b[0m)                  │ (\u001b[38;5;45mNone\u001b[0m, \u001b[38;5;34m128\u001b[0m)                 │               \u001b[38;5;34m0\u001b[0m │\n",
              "├──────────────────────────────────────┼─────────────────────────────┼─────────────────┤\n",
              "│ dense_24 (\u001b[38;5;33mDense\u001b[0m)                     │ (\u001b[38;5;45mNone\u001b[0m, \u001b[38;5;34m64\u001b[0m)                  │           \u001b[38;5;34m8,256\u001b[0m │\n",
              "├──────────────────────────────────────┼─────────────────────────────┼─────────────────┤\n",
              "│ dense_25 (\u001b[38;5;33mDense\u001b[0m)                     │ (\u001b[38;5;45mNone\u001b[0m, \u001b[38;5;34m1\u001b[0m)                   │              \u001b[38;5;34m65\u001b[0m │\n",
              "└──────────────────────────────────────┴─────────────────────────────┴─────────────────┘\n"
            ],
            "text/html": [
              "<pre style=\"white-space:pre;overflow-x:auto;line-height:normal;font-family:Menlo,'DejaVu Sans Mono',consolas,'Courier New',monospace\">┏━━━━━━━━━━━━━━━━━━━━━━━━━━━━━━━━━━━━━━┳━━━━━━━━━━━━━━━━━━━━━━━━━━━━━┳━━━━━━━━━━━━━━━━━┓\n",
              "┃<span style=\"font-weight: bold\"> Layer (type)                         </span>┃<span style=\"font-weight: bold\"> Output Shape                </span>┃<span style=\"font-weight: bold\">         Param # </span>┃\n",
              "┡━━━━━━━━━━━━━━━━━━━━━━━━━━━━━━━━━━━━━━╇━━━━━━━━━━━━━━━━━━━━━━━━━━━━━╇━━━━━━━━━━━━━━━━━┩\n",
              "│ dense_23 (<span style=\"color: #0087ff; text-decoration-color: #0087ff\">Dense</span>)                     │ (<span style=\"color: #00d7ff; text-decoration-color: #00d7ff\">None</span>, <span style=\"color: #00af00; text-decoration-color: #00af00\">128</span>)                 │         <span style=\"color: #00af00; text-decoration-color: #00af00\">640,384</span> │\n",
              "├──────────────────────────────────────┼─────────────────────────────┼─────────────────┤\n",
              "│ dropout_7 (<span style=\"color: #0087ff; text-decoration-color: #0087ff\">Dropout</span>)                  │ (<span style=\"color: #00d7ff; text-decoration-color: #00d7ff\">None</span>, <span style=\"color: #00af00; text-decoration-color: #00af00\">128</span>)                 │               <span style=\"color: #00af00; text-decoration-color: #00af00\">0</span> │\n",
              "├──────────────────────────────────────┼─────────────────────────────┼─────────────────┤\n",
              "│ dense_24 (<span style=\"color: #0087ff; text-decoration-color: #0087ff\">Dense</span>)                     │ (<span style=\"color: #00d7ff; text-decoration-color: #00d7ff\">None</span>, <span style=\"color: #00af00; text-decoration-color: #00af00\">64</span>)                  │           <span style=\"color: #00af00; text-decoration-color: #00af00\">8,256</span> │\n",
              "├──────────────────────────────────────┼─────────────────────────────┼─────────────────┤\n",
              "│ dense_25 (<span style=\"color: #0087ff; text-decoration-color: #0087ff\">Dense</span>)                     │ (<span style=\"color: #00d7ff; text-decoration-color: #00d7ff\">None</span>, <span style=\"color: #00af00; text-decoration-color: #00af00\">1</span>)                   │              <span style=\"color: #00af00; text-decoration-color: #00af00\">65</span> │\n",
              "└──────────────────────────────────────┴─────────────────────────────┴─────────────────┘\n",
              "</pre>\n"
            ]
          },
          "metadata": {}
        },
        {
          "output_type": "display_data",
          "data": {
            "text/plain": [
              "\u001b[1m Total params: \u001b[0m\u001b[38;5;34m648,705\u001b[0m (2.47 MB)\n"
            ],
            "text/html": [
              "<pre style=\"white-space:pre;overflow-x:auto;line-height:normal;font-family:Menlo,'DejaVu Sans Mono',consolas,'Courier New',monospace\"><span style=\"font-weight: bold\"> Total params: </span><span style=\"color: #00af00; text-decoration-color: #00af00\">648,705</span> (2.47 MB)\n",
              "</pre>\n"
            ]
          },
          "metadata": {}
        },
        {
          "output_type": "display_data",
          "data": {
            "text/plain": [
              "\u001b[1m Trainable params: \u001b[0m\u001b[38;5;34m648,705\u001b[0m (2.47 MB)\n"
            ],
            "text/html": [
              "<pre style=\"white-space:pre;overflow-x:auto;line-height:normal;font-family:Menlo,'DejaVu Sans Mono',consolas,'Courier New',monospace\"><span style=\"font-weight: bold\"> Trainable params: </span><span style=\"color: #00af00; text-decoration-color: #00af00\">648,705</span> (2.47 MB)\n",
              "</pre>\n"
            ]
          },
          "metadata": {}
        },
        {
          "output_type": "display_data",
          "data": {
            "text/plain": [
              "\u001b[1m Non-trainable params: \u001b[0m\u001b[38;5;34m0\u001b[0m (0.00 B)\n"
            ],
            "text/html": [
              "<pre style=\"white-space:pre;overflow-x:auto;line-height:normal;font-family:Menlo,'DejaVu Sans Mono',consolas,'Courier New',monospace\"><span style=\"font-weight: bold\"> Non-trainable params: </span><span style=\"color: #00af00; text-decoration-color: #00af00\">0</span> (0.00 B)\n",
              "</pre>\n"
            ]
          },
          "metadata": {}
        }
      ]
    },
    {
      "cell_type": "markdown",
      "source": [
        "# 2.4- Entrenar el modelo"
      ],
      "metadata": {
        "id": "gILKnoE-x7PT"
      }
    },
    {
      "cell_type": "code",
      "source": [
        "# Entrenar el modelo\n",
        "history = model.fit(X_train, y_train, epochs=10, batch_size=32, validation_data=(X_test, y_test))"
      ],
      "metadata": {
        "colab": {
          "base_uri": "https://localhost:8080/"
        },
        "id": "sDuZAd7Kxs6y",
        "outputId": "ffe7e5bb-58b0-478b-a325-7f169264cfba"
      },
      "execution_count": 277,
      "outputs": [
        {
          "output_type": "stream",
          "name": "stdout",
          "text": [
            "Epoch 1/10\n",
            "\u001b[1m129/129\u001b[0m \u001b[32m━━━━━━━━━━━━━━━━━━━━\u001b[0m\u001b[37m\u001b[0m \u001b[1m2s\u001b[0m 7ms/step - loss: 3841.3311 - mae: 54.8865 - val_loss: 1470.0653 - val_mae: 28.7788\n",
            "Epoch 2/10\n",
            "\u001b[1m129/129\u001b[0m \u001b[32m━━━━━━━━━━━━━━━━━━━━\u001b[0m\u001b[37m\u001b[0m \u001b[1m1s\u001b[0m 6ms/step - loss: 1371.2494 - mae: 28.1331 - val_loss: 619.7040 - val_mae: 19.0811\n",
            "Epoch 3/10\n",
            "\u001b[1m129/129\u001b[0m \u001b[32m━━━━━━━━━━━━━━━━━━━━\u001b[0m\u001b[37m\u001b[0m \u001b[1m1s\u001b[0m 7ms/step - loss: 433.8063 - mae: 16.3924 - val_loss: 123.3630 - val_mae: 8.6889\n",
            "Epoch 4/10\n",
            "\u001b[1m129/129\u001b[0m \u001b[32m━━━━━━━━━━━━━━━━━━━━\u001b[0m\u001b[37m\u001b[0m \u001b[1m1s\u001b[0m 6ms/step - loss: 127.7752 - mae: 8.8861 - val_loss: 71.3491 - val_mae: 6.4223\n",
            "Epoch 5/10\n",
            "\u001b[1m129/129\u001b[0m \u001b[32m━━━━━━━━━━━━━━━━━━━━\u001b[0m\u001b[37m\u001b[0m \u001b[1m1s\u001b[0m 6ms/step - loss: 86.1882 - mae: 7.3428 - val_loss: 54.5569 - val_mae: 5.6312\n",
            "Epoch 6/10\n",
            "\u001b[1m129/129\u001b[0m \u001b[32m━━━━━━━━━━━━━━━━━━━━\u001b[0m\u001b[37m\u001b[0m \u001b[1m1s\u001b[0m 7ms/step - loss: 74.0520 - mae: 6.8807 - val_loss: 45.0678 - val_mae: 5.1268\n",
            "Epoch 7/10\n",
            "\u001b[1m129/129\u001b[0m \u001b[32m━━━━━━━━━━━━━━━━━━━━\u001b[0m\u001b[37m\u001b[0m \u001b[1m1s\u001b[0m 7ms/step - loss: 62.9848 - mae: 6.3731 - val_loss: 46.2929 - val_mae: 5.3126\n",
            "Epoch 8/10\n",
            "\u001b[1m129/129\u001b[0m \u001b[32m━━━━━━━━━━━━━━━━━━━━\u001b[0m\u001b[37m\u001b[0m \u001b[1m1s\u001b[0m 6ms/step - loss: 57.5007 - mae: 5.9424 - val_loss: 37.8993 - val_mae: 4.8461\n",
            "Epoch 9/10\n",
            "\u001b[1m129/129\u001b[0m \u001b[32m━━━━━━━━━━━━━━━━━━━━\u001b[0m\u001b[37m\u001b[0m \u001b[1m1s\u001b[0m 6ms/step - loss: 49.9389 - mae: 5.6185 - val_loss: 27.3491 - val_mae: 3.9819\n",
            "Epoch 10/10\n",
            "\u001b[1m129/129\u001b[0m \u001b[32m━━━━━━━━━━━━━━━━━━━━\u001b[0m\u001b[37m\u001b[0m \u001b[1m1s\u001b[0m 6ms/step - loss: 48.5986 - mae: 5.5571 - val_loss: 28.2065 - val_mae: 3.9585\n"
          ]
        }
      ]
    },
    {
      "cell_type": "markdown",
      "source": [
        " tiene 128 neuronas\n",
        "\n",
        " el número de parámetros (640,384) indica que cada entrada del modelo se conecta a cada una de estas 128 neuronas.\n",
        "\n",
        " La capa densa (con activación ReLU, normalmente) toma las características de entrada del vino (que fueron vectorizadas mediante TF-IDF u otro proceso de transformación de texto) y las procesa, buscando patrones complejos en la información. Esto ayudará a capturar representaciones abstractas de las características del vino, como las palabras clave en la descripción, las variedades y la región."
      ],
      "metadata": {
        "id": "09v1JZVle9gi"
      }
    },
    {
      "cell_type": "markdown",
      "source": [
        "# 2.5.- evluar el modelo Error de test"
      ],
      "metadata": {
        "id": "uCIxtih8ciSq"
      }
    },
    {
      "cell_type": "code",
      "source": [
        "# Evaluar el modelo\n",
        "loss, mae = model.evaluate(X_test, y_test)\n",
        "print(f\"Mean Absolute Error (MAE) en el conjunto de prueba: {mae}\")"
      ],
      "metadata": {
        "colab": {
          "base_uri": "https://localhost:8080/"
        },
        "id": "W8iAsp40cj6C",
        "outputId": "f3fa1024-b05f-483e-dc36-e8a3bf142a43"
      },
      "execution_count": 384,
      "outputs": [
        {
          "output_type": "stream",
          "name": "stdout",
          "text": [
            "\u001b[1m33/33\u001b[0m \u001b[32m━━━━━━━━━━━━━━━━━━━━\u001b[0m\u001b[37m\u001b[0m \u001b[1m0s\u001b[0m 4ms/step - loss: 20.0662 - mae: 3.6119\n",
            "Mean Absolute Error (MAE) en el conjunto de prueba: 3.5866174697875977\n"
          ]
        }
      ]
    },
    {
      "cell_type": "markdown",
      "source": [
        "las predicciones de puntuaciones del vino están a 3.58 puntos de las puntuaciones reales."
      ],
      "metadata": {
        "id": "tX_N3BoLRs_3"
      }
    },
    {
      "cell_type": "markdown",
      "source": [
        "El Mean Absolute Error (MAE) en el conjunto de prueba es de 3.58, lo que significa que, en promedio, la predicción de la puntuación del vino se desvía en 3.58 puntos de la puntuación real."
      ],
      "metadata": {
        "id": "WOR4EmVjys4J"
      }
    },
    {
      "cell_type": "markdown",
      "source": [
        "MAE: Un valor de 3.58 significa que el modelo tiene una desviación promedio de aproximadamente 3.58 puntos en la puntuación de los vinos."
      ],
      "metadata": {
        "id": "PyZTKDPq09N3"
      }
    },
    {
      "cell_type": "markdown",
      "source": [
        "# 2.6 - Validacion cruzada"
      ],
      "metadata": {
        "id": "n5hA73m22PsS"
      }
    },
    {
      "cell_type": "markdown",
      "source": [
        "Configurar la validación cruzada con KFold. (5 pliegues)"
      ],
      "metadata": {
        "id": "TiO6nrFe2bfm"
      }
    },
    {
      "cell_type": "code",
      "source": [
        "# Configurar validación cruzada (5 pliegues)\n",
        "kf = KFold(n_splits=5, shuffle=True, random_state=42)\n",
        "mae_scores = []"
      ],
      "metadata": {
        "id": "_btze0x31P23"
      },
      "execution_count": 286,
      "outputs": []
    },
    {
      "cell_type": "code",
      "source": [
        "# Ejecutar validación cruzada\n",
        "for train_index, val_index in kf.split(X):\n",
        "    X_train, X_val = X[train_index], X[val_index]\n",
        "    y_train, y_val = y[train_index], y[val_index]\n",
        "\n",
        "    # Crear y entrenar el modelo\n",
        "    model = create_model(X_train.shape[1])\n",
        "    model.fit(X_train, y_train, epochs=10, batch_size=32, verbose=0)\n",
        "\n",
        "    # Predecir y calcular el MAE para este pliegue\n",
        "    y_pred = model.predict(X_val)\n",
        "    mae = mean_absolute_error(y_val, y_pred)\n",
        "    mae_scores.append(mae)\n",
        "    print(f'MAE para el pliegue: {mae}')"
      ],
      "metadata": {
        "colab": {
          "base_uri": "https://localhost:8080/"
        },
        "id": "QPrBVfiQ1isZ",
        "outputId": "0bafa33c-79ec-4472-e53b-de4f4f402ec8"
      },
      "execution_count": 287,
      "outputs": [
        {
          "output_type": "stream",
          "name": "stderr",
          "text": [
            "/usr/local/lib/python3.11/dist-packages/keras/src/layers/core/dense.py:87: UserWarning: Do not pass an `input_shape`/`input_dim` argument to a layer. When using Sequential models, prefer using an `Input(shape)` object as the first layer in the model instead.\n",
            "  super().__init__(activity_regularizer=activity_regularizer, **kwargs)\n"
          ]
        },
        {
          "output_type": "stream",
          "name": "stdout",
          "text": [
            "\u001b[1m33/33\u001b[0m \u001b[32m━━━━━━━━━━━━━━━━━━━━\u001b[0m\u001b[37m\u001b[0m \u001b[1m0s\u001b[0m 3ms/step\n",
            "MAE para el pliegue: 3.9723947048187256\n"
          ]
        },
        {
          "output_type": "stream",
          "name": "stderr",
          "text": [
            "/usr/local/lib/python3.11/dist-packages/keras/src/layers/core/dense.py:87: UserWarning: Do not pass an `input_shape`/`input_dim` argument to a layer. When using Sequential models, prefer using an `Input(shape)` object as the first layer in the model instead.\n",
            "  super().__init__(activity_regularizer=activity_regularizer, **kwargs)\n"
          ]
        },
        {
          "output_type": "stream",
          "name": "stdout",
          "text": [
            "\u001b[1m33/33\u001b[0m \u001b[32m━━━━━━━━━━━━━━━━━━━━\u001b[0m\u001b[37m\u001b[0m \u001b[1m0s\u001b[0m 3ms/step\n",
            "MAE para el pliegue: 3.9251227378845215\n"
          ]
        },
        {
          "output_type": "stream",
          "name": "stderr",
          "text": [
            "/usr/local/lib/python3.11/dist-packages/keras/src/layers/core/dense.py:87: UserWarning: Do not pass an `input_shape`/`input_dim` argument to a layer. When using Sequential models, prefer using an `Input(shape)` object as the first layer in the model instead.\n",
            "  super().__init__(activity_regularizer=activity_regularizer, **kwargs)\n"
          ]
        },
        {
          "output_type": "stream",
          "name": "stdout",
          "text": [
            "\u001b[1m33/33\u001b[0m \u001b[32m━━━━━━━━━━━━━━━━━━━━\u001b[0m\u001b[37m\u001b[0m \u001b[1m0s\u001b[0m 3ms/step\n",
            "MAE para el pliegue: 4.531281471252441\n"
          ]
        },
        {
          "output_type": "stream",
          "name": "stderr",
          "text": [
            "/usr/local/lib/python3.11/dist-packages/keras/src/layers/core/dense.py:87: UserWarning: Do not pass an `input_shape`/`input_dim` argument to a layer. When using Sequential models, prefer using an `Input(shape)` object as the first layer in the model instead.\n",
            "  super().__init__(activity_regularizer=activity_regularizer, **kwargs)\n"
          ]
        },
        {
          "output_type": "stream",
          "name": "stdout",
          "text": [
            "\u001b[1m33/33\u001b[0m \u001b[32m━━━━━━━━━━━━━━━━━━━━\u001b[0m\u001b[37m\u001b[0m \u001b[1m0s\u001b[0m 2ms/step\n",
            "MAE para el pliegue: 4.034364223480225\n"
          ]
        },
        {
          "output_type": "stream",
          "name": "stderr",
          "text": [
            "/usr/local/lib/python3.11/dist-packages/keras/src/layers/core/dense.py:87: UserWarning: Do not pass an `input_shape`/`input_dim` argument to a layer. When using Sequential models, prefer using an `Input(shape)` object as the first layer in the model instead.\n",
            "  super().__init__(activity_regularizer=activity_regularizer, **kwargs)\n"
          ]
        },
        {
          "output_type": "stream",
          "name": "stdout",
          "text": [
            "\u001b[1m33/33\u001b[0m \u001b[32m━━━━━━━━━━━━━━━━━━━━\u001b[0m\u001b[37m\u001b[0m \u001b[1m0s\u001b[0m 3ms/step\n",
            "MAE para el pliegue: 4.578387260437012\n"
          ]
        }
      ]
    },
    {
      "cell_type": "code",
      "source": [
        "# Resultados finales\n",
        "print(f\"MAE promedio en los {kf.get_n_splits()} pliegues: {np.mean(mae_scores)}\")\n",
        "print(f\"Desviación estándar del MAE: {np.std(mae_scores)}\")"
      ],
      "metadata": {
        "colab": {
          "base_uri": "https://localhost:8080/"
        },
        "id": "WC8v27QE1l4P",
        "outputId": "ef213b8b-7002-468e-e381-86f64d44a99f"
      },
      "execution_count": 385,
      "outputs": [
        {
          "output_type": "stream",
          "name": "stdout",
          "text": [
            "MAE promedio en los 5 pliegues: 4.208310079574585\n",
            "Desviación estándar del MAE: 0.2854385871004461\n"
          ]
        }
      ]
    },
    {
      "cell_type": "markdown",
      "source": [
        "* 4.21, lo que sugiere que el modelo es razonablemente consistente\n",
        "* La desviación estándar de 0.29 indica que las predicciones no varían significativamente entre los diferentes pliegues de validación."
      ],
      "metadata": {
        "id": "V4cdDHByR96i"
      }
    },
    {
      "cell_type": "markdown",
      "source": [
        "MAE promedio: 4.21 — Esto significa que, en promedio, el modelo tiene una desviación de 4.21 puntos en las predicciones de puntuación para los vinos. Es un buen valor, especialmente si tienes en cuenta que las puntuaciones suelen variar entre 0 y 100."
      ],
      "metadata": {
        "id": "mMo8kfD25L0k"
      }
    },
    {
      "cell_type": "markdown",
      "source": [
        "Desviación estándar: 0.29 — Esto muestra que el modelo tiene un rendimiento bastante consistente a través de los diferentes pliegues, ya que la desviación estándar es baja."
      ],
      "metadata": {
        "id": "8U2rMf3h5PEr"
      }
    },
    {
      "cell_type": "markdown",
      "source": [
        "# 2.7- predecir la puntuación de un vino en particular"
      ],
      "metadata": {
        "id": "33zEkF9Fcu_B"
      }
    },
    {
      "cell_type": "code",
      "source": [
        "# Predecir la puntuación para un vino específico (suponiendo que el vino tiene un índice 12496)\n",
        "wine_index = 0\n",
        "wine_features = X[wine_index].reshape(1, -1)  # Convertir las características en una matriz 2D\n",
        "predicted_score = model.predict(wine_features)\n",
        "print(f'Predicción de puntuación para el vino con índice {wine_index}: {predicted_score[0][0]}')\n"
      ],
      "metadata": {
        "colab": {
          "base_uri": "https://localhost:8080/"
        },
        "id": "fSNEKpbQc2Vu",
        "outputId": "74fa0444-52f3-445e-e6b7-ea51b6bca033"
      },
      "execution_count": 289,
      "outputs": [
        {
          "output_type": "stream",
          "name": "stdout",
          "text": [
            "\u001b[1m1/1\u001b[0m \u001b[32m━━━━━━━━━━━━━━━━━━━━\u001b[0m\u001b[37m\u001b[0m \u001b[1m0s\u001b[0m 50ms/step\n",
            "Predicción de puntuación para el vino con índice 0: 83.51055908203125\n"
          ]
        }
      ]
    },
    {
      "cell_type": "markdown",
      "source": [
        "Este valor parece estar dentro del rango esperado (siendo las puntuaciones comunes entre 0 y 100), lo que sugiere que el modelo está funcionando bien."
      ],
      "metadata": {
        "id": "l-dtKyxP52yd"
      }
    },
    {
      "cell_type": "markdown",
      "source": [
        "# 2.8- recomendar los vinos más similares"
      ],
      "metadata": {
        "id": "HwJoru2Kc8bS"
      }
    },
    {
      "cell_type": "code",
      "source": [
        "# Obtener la predicción de puntuaciones para todos los vinos\n",
        "predicted_scores = model.predict(X)\n",
        "\n",
        "# Ordenar los vinos por las puntuaciones predichas\n",
        "recommended_indices = np.argsort(predicted_scores.flatten())[-6:-1]  # Top 5 recomendaciones\n",
        "\n",
        "# Mostrar las recomendaciones\n",
        "recommended_wines = df_filtered.iloc[recommended_indices]\n",
        "print(recommended_wines[['title', 'variety', 'region_1', 'price', 'points']])\n"
      ],
      "metadata": {
        "colab": {
          "base_uri": "https://localhost:8080/"
        },
        "id": "R8agKFvFc76E",
        "outputId": "81fe78fd-acd3-452e-9553-18906734f9ba"
      },
      "execution_count": 291,
      "outputs": [
        {
          "output_type": "stream",
          "name": "stdout",
          "text": [
            "\u001b[1m161/161\u001b[0m \u001b[32m━━━━━━━━━━━━━━━━━━━━\u001b[0m\u001b[37m\u001b[0m \u001b[1m0s\u001b[0m 3ms/step\n",
            "                                                    title  \\\n",
            "112164  Château du Rouët 2015 Coeur Estérelle Rosé (Cô...   \n",
            "110680       Vieux Château des Combes 2014  Saint-Émilion   \n",
            "13746   Clos Troteligotte 2012 C.Sb.V. White (Vin de P...   \n",
            "65190   Calmel & Joseph 2014 Les Terroirs Red (Saint-C...   \n",
            "37195   Lieubeau 2015 La Fruitière Vignes Blanches Whi...   \n",
            "\n",
            "                         variety            region_1  price  points  \n",
            "112164                      Rosé   Côtes de Provence   15.0      88  \n",
            "110680  Bordeaux-style Red Blend       Saint-Émilion   15.0      90  \n",
            "13746                White Blend  Vin de Pays du Lot   16.0      88  \n",
            "65190      Rhône-style Red Blend       Saint-Chinian   15.0      88  \n",
            "37195                White Blend        Val de Loire   15.0      88  \n"
          ]
        }
      ]
    },
    {
      "cell_type": "markdown",
      "source": [
        "# 2.9 - CONCLUSIONES  - recomendación basada en contenido\n",
        "\n",
        "* la red neuronal tuvo la finalidad de predecir las puntuaciones de los vinos.\n",
        "* MAE (Error Absoluto Medio): El modelo mostró un MAE de 3.81 en el conjunto de prueba, lo que indica que, en promedio, las predicciones de puntuaciones del vino están a 3.81 puntos de las puntuaciones reales.\n",
        "* la validación cruzada KFold (5 pliegues) obtuvo un 4.21, lo que sugiere que el modelo es razonablemente consistente. La desviación estándar de 0.29 indica que las predicciones no varían significativamente entre los diferentes pliegues de validación.\n",
        "* Se realizó una predicción individual de puntuación para un vino específico, mostrando que el modelo puede hacer predicciones razonables para vinos no vistos durante el entrenamiento.\n",
        "* La combinación de la similitud de coseno y la red neuronal permite generar recomendaciones de vinos que son similares en términos de características textuales y puntuación, lo que es útil para usuarios que buscan vinos con perfiles similares.\n"
      ],
      "metadata": {
        "id": "gVYvWkDyLTVT"
      }
    },
    {
      "cell_type": "markdown",
      "source": [
        "# 3.- SISTEMA DE RECOMENDACIÓN COLABORATIVO O BASADO EN USUARIOS"
      ],
      "metadata": {
        "id": "OiQLVpMTvwSn"
      }
    },
    {
      "cell_type": "markdown",
      "source": [
        "Sistema de Recomendación de Vinos colaborativo (Recomendación de catadores similares)\n",
        "\n",
        "OBJETIVO: un modelo que recomiende vinos (title) a otros catadores basados en las calificaciones dadas por otros con gustos similares."
      ],
      "metadata": {
        "id": "afZZj3anwFw9"
      }
    },
    {
      "cell_type": "code",
      "source": [
        "pip install scikit-surprise"
      ],
      "metadata": {
        "colab": {
          "base_uri": "https://localhost:8080/"
        },
        "id": "y3GhUaPahix4",
        "outputId": "84a5863a-3841-417e-e689-e9a13e5e506c"
      },
      "execution_count": 35,
      "outputs": [
        {
          "output_type": "stream",
          "name": "stdout",
          "text": [
            "Collecting scikit-surprise\n",
            "  Downloading scikit_surprise-1.1.4.tar.gz (154 kB)\n",
            "\u001b[?25l     \u001b[90m━━━━━━━━━━━━━━━━━━━━━━━━━━━━━━━━━━━━━━━━\u001b[0m \u001b[32m0.0/154.4 kB\u001b[0m \u001b[31m?\u001b[0m eta \u001b[36m-:--:--\u001b[0m\r\u001b[2K     \u001b[90m━━━━━━━━━━━━━━━━━━━━━━━━━━━━━━━━━━━━━━━━\u001b[0m \u001b[32m154.4/154.4 kB\u001b[0m \u001b[31m5.6 MB/s\u001b[0m eta \u001b[36m0:00:00\u001b[0m\n",
            "\u001b[?25h  Installing build dependencies ... \u001b[?25l\u001b[?25hdone\n",
            "  Getting requirements to build wheel ... \u001b[?25l\u001b[?25hdone\n",
            "  Preparing metadata (pyproject.toml) ... \u001b[?25l\u001b[?25hdone\n",
            "Requirement already satisfied: joblib>=1.2.0 in /usr/local/lib/python3.11/dist-packages (from scikit-surprise) (1.4.2)\n",
            "Requirement already satisfied: numpy>=1.19.5 in /usr/local/lib/python3.11/dist-packages (from scikit-surprise) (1.26.4)\n",
            "Requirement already satisfied: scipy>=1.6.0 in /usr/local/lib/python3.11/dist-packages (from scikit-surprise) (1.13.1)\n",
            "Building wheels for collected packages: scikit-surprise\n",
            "  Building wheel for scikit-surprise (pyproject.toml) ... \u001b[?25l\u001b[?25hdone\n",
            "  Created wheel for scikit-surprise: filename=scikit_surprise-1.1.4-cp311-cp311-linux_x86_64.whl size=2505171 sha256=09615d4c07867f785fa97b5afb35a9b5d43e7f0c2250adf64b893b32e6ef6b99\n",
            "  Stored in directory: /root/.cache/pip/wheels/2a/8f/6e/7e2899163e2d85d8266daab4aa1cdabec7a6c56f83c015b5af\n",
            "Successfully built scikit-surprise\n",
            "Installing collected packages: scikit-surprise\n",
            "Successfully installed scikit-surprise-1.1.4\n"
          ]
        }
      ]
    },
    {
      "cell_type": "markdown",
      "source": [
        "creamos una tabla dinámica en la que cada fila es un taster_name y cada columna es un title de vino. Los valores en la tabla son 1 si el catador ha probado el vino, y 0 si no lo ha probado."
      ],
      "metadata": {
        "id": "nNAXs9aAsaQr"
      }
    },
    {
      "cell_type": "markdown",
      "source": [
        "Uso de Surprise para el sistema colaborativo"
      ],
      "metadata": {
        "id": "yXbANbLClmPl"
      }
    },
    {
      "cell_type": "code",
      "source": [
        "from surprise import Dataset, Reader\n",
        "from surprise.model_selection import train_test_split\n",
        "from surprise import KNNBasic\n",
        "from surprise import accuracy\n",
        "from surprise import SVD\n",
        "from scipy.sparse import coo_matrix\n",
        "from lightfm import LightFM\n",
        "from lightfm.evaluation import auc_score"
      ],
      "metadata": {
        "id": "l_MlGdYNlsAT"
      },
      "execution_count": 292,
      "outputs": []
    },
    {
      "cell_type": "markdown",
      "source": [
        "# 3.1- Preprocesamiento"
      ],
      "metadata": {
        "id": "MgLrxlosEaK6"
      }
    },
    {
      "cell_type": "code",
      "source": [
        "# Eliminar filas donde 'taster_name' es nulo\n",
        "df_filtered_cleaned = df_filtered.dropna(subset=['taster_name'])\n",
        "# Eliminar filas con 'taster_name' nulo en el DataFrame original\n",
        "df_filtered.dropna(subset=['taster_name'], inplace=True)"
      ],
      "metadata": {
        "id": "OK2oBYA7ETS_"
      },
      "execution_count": 347,
      "outputs": []
    },
    {
      "cell_type": "markdown",
      "source": [
        "# 3.1 - Definir parámetros."
      ],
      "metadata": {
        "id": "1h1pnou3uKRo"
      }
    },
    {
      "cell_type": "code",
      "source": [
        "# Crear el dataset adecuado para Surprise\n",
        "reader = Reader(rating_scale=(df_filtered_cleaned['points'].min(), df_filtered_cleaned['points'].max()))\n",
        "data = Dataset.load_from_df(df_filtered_cleaned[['taster_name', 'title', 'points']], reader)"
      ],
      "metadata": {
        "id": "009zayReloZ7"
      },
      "execution_count": 335,
      "outputs": []
    },
    {
      "cell_type": "markdown",
      "source": [
        "dividir en entrenamientio y prueba."
      ],
      "metadata": {
        "id": "9NDz_m_OuQy-"
      }
    },
    {
      "cell_type": "code",
      "source": [
        "# Dividir en conjunto de entrenamiento y conjunto de prueba\n",
        "trainset, testset = train_test_split(data, test_size=0.2)"
      ],
      "metadata": {
        "id": "CMbGIyTilqtt"
      },
      "execution_count": 336,
      "outputs": []
    },
    {
      "cell_type": "markdown",
      "source": [
        "# 3.2- Configurar y entrenar el modelo KNN"
      ],
      "metadata": {
        "id": "Gr3lO46dnpYH"
      }
    },
    {
      "cell_type": "markdown",
      "source": [
        "creamos y entrenamos el modelo de KNN basado en usuarios para calcular las similitudes entre los catadores y recomendar vinos basados en estas similitudes."
      ],
      "metadata": {
        "id": "2osQ2Zrol2BO"
      }
    },
    {
      "cell_type": "markdown",
      "source": [
        "la distancia coseno como métrica de similitud entre usuarios, y habilitas el filtrado basado en usuarios."
      ],
      "metadata": {
        "id": "2PqTnT5yrDD2"
      }
    },
    {
      "cell_type": "code",
      "source": [
        "# Configurar el modelo KNN\n",
        "sim_options = {\n",
        "    'name': 'cosine',  # Usamos distancia coseno\n",
        "    'user_based': True  # Filtrado basado en usuarios\n",
        "}"
      ],
      "metadata": {
        "id": "i-GsiXiyl6e-"
      },
      "execution_count": 337,
      "outputs": []
    },
    {
      "cell_type": "code",
      "source": [
        "# Crear el modelo KNN\n",
        "model_knn = KNNBasic(sim_options=sim_options)"
      ],
      "metadata": {
        "id": "zpK8uejBl8mx"
      },
      "execution_count": 338,
      "outputs": []
    },
    {
      "cell_type": "code",
      "source": [
        "# Entrenar el modelo\n",
        "model_knn.fit(trainset)"
      ],
      "metadata": {
        "colab": {
          "base_uri": "https://localhost:8080/"
        },
        "id": "u2q4kUvFl-iH",
        "outputId": "58a0ac2d-19d9-4523-e75c-9ace5f27f5e7"
      },
      "execution_count": 339,
      "outputs": [
        {
          "output_type": "stream",
          "name": "stdout",
          "text": [
            "Computing the cosine similarity matrix...\n",
            "Done computing similarity matrix.\n"
          ]
        },
        {
          "output_type": "execute_result",
          "data": {
            "text/plain": [
              "<surprise.prediction_algorithms.knns.KNNBasic at 0x7d07baba4bd0>"
            ]
          },
          "metadata": {},
          "execution_count": 339
        }
      ]
    },
    {
      "cell_type": "markdown",
      "source": [
        " Hacer predicciones"
      ],
      "metadata": {
        "id": "KxYmgM0LDVIM"
      }
    },
    {
      "cell_type": "code",
      "source": [
        "# Hacer predicciones sobre el conjunto de prueba\n",
        "predictions_knn = model_knn.test(testset)"
      ],
      "metadata": {
        "id": "zk5VIDV8mBSQ"
      },
      "execution_count": 340,
      "outputs": []
    },
    {
      "cell_type": "markdown",
      "source": [
        "Evaluar el modelo con RMSE"
      ],
      "metadata": {
        "id": "gJ09K6KnCblw"
      }
    },
    {
      "cell_type": "code",
      "source": [
        "# Evaluar el modelo con RMSE\n",
        "rmse_knn = accuracy.rmse(predictions_knn)\n",
        "print(f\"RMSE de KNNBasic: {rmse_knn}\")"
      ],
      "metadata": {
        "colab": {
          "base_uri": "https://localhost:8080/"
        },
        "id": "eqmJvRCKmDNd",
        "outputId": "53d81b1c-e618-48af-dba0-383605dc579e"
      },
      "execution_count": 341,
      "outputs": [
        {
          "output_type": "stream",
          "name": "stdout",
          "text": [
            "RMSE: 1.9384\n",
            "RMSE de KNNBasic: 1.9384223444842636\n"
          ]
        }
      ]
    },
    {
      "cell_type": "markdown",
      "source": [
        "es relativamente bajo y sugiere que el modelo está funcionando bien."
      ],
      "metadata": {
        "id": "eQvE6Cj5rcUo"
      }
    },
    {
      "cell_type": "markdown",
      "source": [
        "un RMSE bajo significa que las predicciones de tu modelo están más cerca de las calificaciones reales.\n",
        "\n",
        "Valor alto de RMSE: Indica que las predicciones están más alejadas de los valores reales y que el modelo tiene un mayor error."
      ],
      "metadata": {
        "id": "n85glLsrqW-b"
      }
    },
    {
      "cell_type": "markdown",
      "source": [
        "Una vez que el modelo está entrenado, creamos una función que recomendará vinos a un catador específico, basándonos en los catadores más similares:"
      ],
      "metadata": {
        "id": "M-9ac2B5mIpB"
      }
    },
    {
      "cell_type": "markdown",
      "source": [
        "Función para recomendar vinos a un catador específico"
      ],
      "metadata": {
        "id": "sgoeQeFlDcCB"
      }
    },
    {
      "cell_type": "code",
      "source": [
        "# Función para recomendar vinos a un catador específico\n",
        "def recomendar_vinos(catador, model_knn, trainset, top_n=5):\n",
        "    # Obtener el índice interno del catador en el conjunto de entrenamiento\n",
        "    inner_id = trainset.to_inner_uid(catador)\n",
        "\n",
        "    # Obtener los vecinos más similares al catador\n",
        "    neighbors = model_knn.get_neighbors(inner_id, k=top_n)\n",
        "\n",
        "    # Almacenar las predicciones de vinos que los vecinos han probado\n",
        "    recommended_vinos = []\n",
        "\n",
        "    # Iterar sobre los vecinos para obtener los vinos que han calificado\n",
        "    for neighbor in neighbors:\n",
        "        # Obtener las predicciones de todos los vinos que el vecino ha calificado\n",
        "        for (uid, iid, true_r) in trainset.all_ratings():\n",
        "            if uid == neighbor:  # Si el vecino ha calificado este vino\n",
        "                predicted_rating = model_knn.predict(uid, iid)  # Hacemos la predicción\n",
        "                recommended_vinos.append((iid, predicted_rating.est))\n",
        "\n",
        "    # Ordenar los vinos recomendados por la predicción de la puntuación (de mayor a menor)\n",
        "    recommended_vinos = sorted(recommended_vinos, key=lambda x: x[1], reverse=True)\n",
        "\n",
        "    # Mostrar los vinos recomendados\n",
        "    print(f\"\\nVinos recomendados para el catador {catador}:\")\n",
        "    for i, (vino_id, puntuacion) in enumerate(recommended_vinos[:top_n]):\n",
        "        # Convertir el ID del vino de vuelta a su título\n",
        "        vino_title = trainset.to_raw_iid(vino_id)\n",
        "        print(f\"{i+1}. {vino_title}: Predicción de puntuación: {puntuacion:.2f}\")\n"
      ],
      "metadata": {
        "id": "dkC0OsT_Ho27"
      },
      "execution_count": 365,
      "outputs": []
    },
    {
      "cell_type": "code",
      "source": [
        "# Reemplaza 'Lauren Buzzeo' con el nombre de un catador que exista en tu conjunto de datos\n",
        "recomendar_vinos('Lauren Buzzeo', model_knn, trainset, top_n=5)"
      ],
      "metadata": {
        "colab": {
          "base_uri": "https://localhost:8080/"
        },
        "id": "mIF7dwhHDbbX",
        "outputId": "b43cd139-ec93-4e1d-9dc2-f11d82e5e182"
      },
      "execution_count": 368,
      "outputs": [
        {
          "output_type": "stream",
          "name": "stdout",
          "text": [
            "\n",
            "Vinos recomendados para el catador Lauren Buzzeo:\n",
            "1. Banrock Station 2015 Chardonnay (South Eastern Australia): Predicción de puntuación: 86.32\n",
            "2. Shoofly 2008 The Freckle White (Adelaide): Predicción de puntuación: 86.32\n",
            "3. Altoona Hills 2008 Rosé Kosher Shiraz (South Eastern Australia): Predicción de puntuación: 86.32\n",
            "4. Robert Oatley 2010 Rosé of Sangiovese Rosé (Mudgee): Predicción de puntuación: 86.32\n",
            "5. Alice White 2006 Cabernet Sauvignon (South Eastern Australia): Predicción de puntuación: 86.32\n"
          ]
        }
      ]
    },
    {
      "cell_type": "markdown",
      "source": [
        "# 3.3.- evaluar con Singular Value Decompositionen SVD,\n",
        "\n",
        "ahora la idea es reducir las dimensiones de la matriz de interacción (entre catadores y vinos) para encontrar patrones latentes que expliquen las calificaciones\n",
        "\n",
        "Singular Value Decomposition"
      ],
      "metadata": {
        "id": "VgJezrgZn2vq"
      }
    },
    {
      "cell_type": "markdown",
      "source": [
        "Definir parámetros."
      ],
      "metadata": {
        "id": "hlt4tM3KvgHV"
      }
    },
    {
      "cell_type": "code",
      "source": [
        "# Leer datos desde el dataframe que contiene las calificaciones\n",
        "reader = Reader(rating_scale=(df_filtered_cleaned['points'].min(), df_filtered_cleaned['points'].max()))\n",
        "data = Dataset.load_from_df(df_filtered_cleaned[['taster_name', 'title', 'points']], reader)"
      ],
      "metadata": {
        "id": "pCczE1wjoEFG"
      },
      "execution_count": 354,
      "outputs": []
    },
    {
      "cell_type": "markdown",
      "source": [
        "Dividir en entrenamiento y prueba"
      ],
      "metadata": {
        "id": "61b80mzdIWP5"
      }
    },
    {
      "cell_type": "code",
      "source": [
        "# Dividir en entrenamiento y prueba\n",
        "trainset, testset = train_test_split(data, test_size=0.2)"
      ],
      "metadata": {
        "id": "dFK3sEewoGR9"
      },
      "execution_count": 355,
      "outputs": []
    },
    {
      "cell_type": "markdown",
      "source": [
        "Crear el modelo SVD"
      ],
      "metadata": {
        "id": "MQagyk4AIXxA"
      }
    },
    {
      "cell_type": "code",
      "source": [
        "model_svd = SVD()"
      ],
      "metadata": {
        "id": "6ZZbKFmmoI1u"
      },
      "execution_count": 371,
      "outputs": []
    },
    {
      "cell_type": "markdown",
      "source": [
        "Entrenar el modelo"
      ],
      "metadata": {
        "id": "yzVpNFMcIjlh"
      }
    },
    {
      "cell_type": "code",
      "source": [
        "model_svd.fit(trainset)"
      ],
      "metadata": {
        "colab": {
          "base_uri": "https://localhost:8080/"
        },
        "id": "AaZTc3baIbHx",
        "outputId": "0caea93d-a272-4693-fdaa-9c660209252e"
      },
      "execution_count": 372,
      "outputs": [
        {
          "output_type": "execute_result",
          "data": {
            "text/plain": [
              "<surprise.prediction_algorithms.matrix_factorization.SVD at 0x7d07b5dc6f90>"
            ]
          },
          "metadata": {},
          "execution_count": 372
        }
      ]
    },
    {
      "cell_type": "markdown",
      "source": [
        "Hacer predicciones sobre el conjunto de prueba"
      ],
      "metadata": {
        "id": "6S1TVrFYIsp2"
      }
    },
    {
      "cell_type": "code",
      "source": [
        "predictions_svd = model_svd.test(testset)"
      ],
      "metadata": {
        "id": "fm--5GSYIc0m"
      },
      "execution_count": 377,
      "outputs": []
    },
    {
      "cell_type": "markdown",
      "source": [
        "Evaluar el modelo con RMSE"
      ],
      "metadata": {
        "id": "LEn255sPIpS_"
      }
    },
    {
      "cell_type": "code",
      "source": [
        "rmse_svd = accuracy.rmse(predictions_svd)\n",
        "print(f\"RMSE de SVD: {rmse_svd}\")"
      ],
      "metadata": {
        "colab": {
          "base_uri": "https://localhost:8080/"
        },
        "id": "FhDqLOoyIeJ8",
        "outputId": "5be79ffc-991a-4119-83f6-b330d682b9f7"
      },
      "execution_count": 379,
      "outputs": [
        {
          "output_type": "stream",
          "name": "stdout",
          "text": [
            "RMSE: 1.9898\n",
            "RMSE de SVD: 1.9897813192051406\n"
          ]
        }
      ]
    },
    {
      "cell_type": "markdown",
      "source": [
        "RMSE mide la diferencia promedio entre las calificaciones predichas por el modelo y las calificaciones reales de los usuarios en el conjunto de prueba.\n",
        "\n",
        "Un RMSE más bajo significa que las predicciones del modelo son más precisas, ya que las diferencias entre las calificaciones predichas y las reales son menores\n",
        "\n",
        "En este caso, el RMSE de 1.98 podría ser adecuado, dependiendo de las calificaciones en tu conjunto de datos y cómo se distribuyen."
      ],
      "metadata": {
        "id": "ylbJZ7ynovJn"
      }
    },
    {
      "cell_type": "markdown",
      "source": [
        "# 3.4- con LightFM"
      ],
      "metadata": {
        "id": "OsLnrwUtwIWB"
      }
    },
    {
      "cell_type": "code",
      "source": [
        "pip install lightfm"
      ],
      "metadata": {
        "colab": {
          "base_uri": "https://localhost:8080/"
        },
        "id": "ACN0wgLGwOTP",
        "outputId": "2d110b99-6f40-409c-c16b-22836455b7ed"
      },
      "execution_count": 329,
      "outputs": [
        {
          "output_type": "stream",
          "name": "stdout",
          "text": [
            "Requirement already satisfied: lightfm in /usr/local/lib/python3.11/dist-packages (1.17)\n",
            "Requirement already satisfied: numpy in /usr/local/lib/python3.11/dist-packages (from lightfm) (1.26.4)\n",
            "Requirement already satisfied: scipy>=0.17.0 in /usr/local/lib/python3.11/dist-packages (from lightfm) (1.13.1)\n",
            "Requirement already satisfied: requests in /usr/local/lib/python3.11/dist-packages (from lightfm) (2.32.3)\n",
            "Requirement already satisfied: scikit-learn in /usr/local/lib/python3.11/dist-packages (from lightfm) (1.6.1)\n",
            "Requirement already satisfied: charset-normalizer<4,>=2 in /usr/local/lib/python3.11/dist-packages (from requests->lightfm) (3.4.1)\n",
            "Requirement already satisfied: idna<4,>=2.5 in /usr/local/lib/python3.11/dist-packages (from requests->lightfm) (3.10)\n",
            "Requirement already satisfied: urllib3<3,>=1.21.1 in /usr/local/lib/python3.11/dist-packages (from requests->lightfm) (2.3.0)\n",
            "Requirement already satisfied: certifi>=2017.4.17 in /usr/local/lib/python3.11/dist-packages (from requests->lightfm) (2025.1.31)\n",
            "Requirement already satisfied: joblib>=1.2.0 in /usr/local/lib/python3.11/dist-packages (from scikit-learn->lightfm) (1.4.2)\n",
            "Requirement already satisfied: threadpoolctl>=3.1.0 in /usr/local/lib/python3.11/dist-packages (from scikit-learn->lightfm) (3.5.0)\n"
          ]
        }
      ]
    },
    {
      "cell_type": "markdown",
      "source": [
        "matriz de interaccion"
      ],
      "metadata": {
        "id": "NGAPhrRYxNws"
      }
    },
    {
      "cell_type": "code",
      "source": [
        "# df_filtered contiene 'taster_name', 'title' y 'points'\n",
        "# Creamos un mapeo de los catadores y vinos a índices enteros\n",
        "user_mapping = {user: idx for idx, user in enumerate(df_filtered['taster_name'].unique())}\n",
        "item_mapping = {item: idx for idx, item in enumerate(df_filtered['title'].unique())}\n",
        "\n",
        "# Convertimos las puntuaciones en una matriz dispersa\n",
        "rows = df_filtered_cleaned['taster_name'].map(user_mapping)\n",
        "cols = df_filtered_cleaned['title'].map(item_mapping)\n",
        "values = df_filtered_cleaned['points']\n",
        "\n",
        "interaction_matrix = coo_matrix((values, (rows, cols)), shape=(len(user_mapping), len(item_mapping)))\n"
      ],
      "metadata": {
        "id": "NPKe78SYwaKz"
      },
      "execution_count": 357,
      "outputs": []
    },
    {
      "cell_type": "code",
      "source": [
        "# Creamos un modelo híbrido (usando tanto contenido como colaborativo)\n",
        "model_lightfm = LightFM(loss='warp')  # 'warp' es un tipo de pérdida eficiente para recomendaciones"
      ],
      "metadata": {
        "id": "ps2jh8HRwo_-"
      },
      "execution_count": 358,
      "outputs": []
    },
    {
      "cell_type": "markdown",
      "source": [
        "Entrenamos el modelo"
      ],
      "metadata": {
        "id": "fUlEGO0KyIrW"
      }
    },
    {
      "cell_type": "code",
      "source": [
        "# Entrenamos el modelo\n",
        "model_lightfm.fit(interaction_matrix, epochs=30, num_threads=4)"
      ],
      "metadata": {
        "colab": {
          "base_uri": "https://localhost:8080/"
        },
        "id": "64GCsLu_yIBj",
        "outputId": "83be3adc-425c-49c1-c938-5843b10802c4"
      },
      "execution_count": 359,
      "outputs": [
        {
          "output_type": "execute_result",
          "data": {
            "text/plain": [
              "<lightfm.lightfm.LightFM at 0x7d07b5f6c950>"
            ]
          },
          "metadata": {},
          "execution_count": 359
        }
      ]
    },
    {
      "cell_type": "markdown",
      "source": [
        "evaluacion con AUC (Área bajo la curva ROC)"
      ],
      "metadata": {
        "id": "nOoSPS7LyNjE"
      }
    },
    {
      "cell_type": "code",
      "source": [
        "# Evaluación utilizando AUC\n",
        "train_auc = auc_score(model_lightfm, interaction_matrix).mean()\n",
        "print(f\"AUC de entrenamiento: {train_auc}\")"
      ],
      "metadata": {
        "colab": {
          "base_uri": "https://localhost:8080/"
        },
        "id": "xJF9UMnmwsMZ",
        "outputId": "0ca89042-8072-4705-bff9-5a4f0ef1a1dd"
      },
      "execution_count": 382,
      "outputs": [
        {
          "output_type": "stream",
          "name": "stdout",
          "text": [
            "AUC de entrenamiento: 0.9920408725738525\n"
          ]
        }
      ]
    },
    {
      "cell_type": "markdown",
      "source": [
        "KNN es más simple y trabaja directamente con la similitud entre usuarios, mientras que LightFM combina características de los ítems y las interacciones, lo que puede resultar en un rendimiento más robusto si tienes características adicionales de los vinos o catadores."
      ],
      "metadata": {
        "id": "4Dm-RacCxwtX"
      }
    },
    {
      "cell_type": "markdown",
      "source": [
        "Un valor de AUC cercano a 1 es ideal. algo cerca de 0.5, eso indica que el modelo no es mejor que una predicción aleatoria"
      ],
      "metadata": {
        "id": "yX5D1_Q6w2TQ"
      }
    },
    {
      "cell_type": "markdown",
      "source": [
        "Si el AUC de LightFM es significativamente más alto que el RMSE de KNN, es probable que LightFM esté funcionando mejor en este caso."
      ],
      "metadata": {
        "id": "f-_ZaLbHx0Ud"
      }
    },
    {
      "cell_type": "markdown",
      "source": [
        " Función para recomendar vinos con el modelo LightFM"
      ],
      "metadata": {
        "id": "YGyTXJUhwmbU"
      }
    },
    {
      "cell_type": "code",
      "source": [
        "import numpy as np\n",
        "\n",
        "def recomendar_vinos_lightfm(catador, model, interaction_matrix, user_mapping, item_mapping, top_n=5):\n",
        "    # Obtener el índice del catador en el mapeo\n",
        "    user_idx = user_mapping.get(catador)\n",
        "\n",
        "    if user_idx is None:\n",
        "        print(f\"Catador {catador} no encontrado.\")\n",
        "        return\n",
        "\n",
        "    # Obtener las predicciones para todos los vinos para el catador\n",
        "    # El modelo LightFM devuelve las puntuaciones predichas para cada vino en el sistema\n",
        "    scores = model.predict(user_idx, np.arange(interaction_matrix.shape[1]))\n",
        "\n",
        "    # Filtrar los vinos que el catador ya ha calificado (no los recomendamos)\n",
        "    rated_items = interaction_matrix.getrow(user_idx).nonzero()[1]  # Índices de vinos ya calificados\n",
        "    recommended_items = [(item, score) for item, score in zip(np.arange(interaction_matrix.shape[1]), scores) if item not in rated_items]\n",
        "\n",
        "    # Ordenar las recomendaciones por la puntuación (de mayor a menor)\n",
        "    recommended_items = sorted(recommended_items, key=lambda x: x[1], reverse=True)\n",
        "\n",
        "    # Mostrar los vinos recomendados\n",
        "    print(f\"\\nVinos recomendados para el catador {catador}:\")\n",
        "    for i, (item_idx, score) in enumerate(recommended_items[:top_n]):\n",
        "        # Convertir el índice del vino en su nombre\n",
        "        vino_title = list(item_mapping.keys())[list(item_mapping.values()).index(item_idx)]\n",
        "        print(f\"{i+1}. {vino_title}: Predicción de puntuación: {score:.2f}\")\n",
        "\n",
        "# Usar la función para recomendar vinos a un catador\n",
        "recomendar_vinos_lightfm('Lauren Buzzeo', model_lightfm, interaction_matrix, user_mapping, item_mapping, top_n=5)\n"
      ],
      "metadata": {
        "colab": {
          "base_uri": "https://localhost:8080/"
        },
        "id": "qpgs43tcKQM7",
        "outputId": "3e23b01b-fc15-434f-d7d7-ff181a7a86d5"
      },
      "execution_count": 383,
      "outputs": [
        {
          "output_type": "stream",
          "name": "stdout",
          "text": [
            "\n",
            "Vinos recomendados para el catador Lauren Buzzeo:\n",
            "1. Michel Laroche 2001 Merlot (Vin de Pays d'Oc): Predicción de puntuación: -2.03\n",
            "2. Quails' Gate 2009 Chardonnay (Okanagan Valley): Predicción de puntuación: -2.24\n",
            "3. Cave Spring 2011 Riesling (Niagara Peninsula): Predicción de puntuación: -2.57\n",
            "4. North 42 Degrees 2016 Sweet Riesling (Lake Erie North Shore): Predicción de puntuación: -2.63\n",
            "5. Abarbanel 2001 Estate Bottled Chardonnay (Vin de Pays de L'Aude): Predicción de puntuación: -2.69\n"
          ]
        }
      ]
    },
    {
      "cell_type": "markdown",
      "source": [
        "# 4.- CONCLUSIONES - recomendación colaborativa"
      ],
      "metadata": {
        "id": "FP3vwyitLBHe"
      }
    },
    {
      "cell_type": "markdown",
      "source": [
        "* El objetivo general de este sistema de recomendación es recomendar vinos a los catadores basándose en las calificaciones previas dadas por otros catadores\n",
        "* KNN basado en usuarios (Filtrado colaborativo) RMSE (Root Mean Square Error): El RMSE obtenido fue relativamente bajo, lo que sugiere que el modelo ha sido capaz de hacer predicciones razonablemente buenas\n",
        "* SVD (Descomposición en valores singulares)El RMSE para el modelo SVD fue de 1.98, lo que puede considerarse adecuado. Un RMSE más bajo indica que el modelo ha logrado aprender patrones subyacentes que permiten hacer mejores predicciones sobre las calificaciones que los catadores darían a los vinos que no han probado.\n",
        "* LightFM (Modelo híbrido) Un valor cercano a 1 en AUC es ideal, lo que indica que el modelo tiene una buena capacidad para diferenciar entre interacciones positivas (vinos que un catador probablemente disfrutaría) y negativas (vinos que no le gustarían)."
      ],
      "metadata": {
        "id": "ylsQ-M6GLGUC"
      }
    }
  ]
}